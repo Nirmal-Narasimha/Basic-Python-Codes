{
 "cells": [
  {
   "cell_type": "code",
   "execution_count": 1,
   "metadata": {},
   "outputs": [
    {
     "name": "stdout",
     "output_type": "stream",
     "text": [
      "5\n",
      "6\n"
     ]
    }
   ],
   "source": [
    "5\n",
    "x=5\n",
    "print(x)\n",
    "print(x+1)"
   ]
  },
  {
   "cell_type": "code",
   "execution_count": 2,
   "metadata": {},
   "outputs": [
    {
     "name": "stdout",
     "output_type": "stream",
     "text": [
      "                                                                 monty\n"
     ]
    }
   ],
   "source": [
    "\n",
    "def rj(s):\n",
    "  a=\" \"\n",
    "  print(a*65+s)\n",
    "rj('monty')"
   ]
  },
  {
   "cell_type": "code",
   "execution_count": 3,
   "metadata": {},
   "outputs": [
    {
     "name": "stdout",
     "output_type": "stream",
     "text": [
      "nirmal\n",
      "nirmal\n"
     ]
    }
   ],
   "source": [
    "\n",
    "def dotwice(f,a):\n",
    "  f(a)\n",
    "  f(a)\n",
    "def print_spam(name):\n",
    "  print(name)\n",
    "dotwice(print_spam,'nirmal')"
   ]
  },
  {
   "cell_type": "code",
   "execution_count": 4,
   "metadata": {},
   "outputs": [],
   "source": [
    "import turtle\n",
    "import math\n",
    "bob = turtle.Turtle()\n",
    "\n",
    "def polygon(t,l,n):\n",
    "    a = 360/n\n",
    "    for i in range(n):\n",
    "        t.fd(l)\n",
    "        t.lt(a)\n",
    "# polygon(bob,l=150,n=5)  \n",
    "\n",
    "def circle(t,r):\n",
    "    circumference = 2 * math.pi * r\n",
    "    no_of_sides = int(circumference/3)+1\n",
    "    length = circumference/no_of_sides\n",
    "    polygon(t,l = length,n=no_of_sides)\n",
    "circle(bob,6)\n",
    "\n",
    "turtle.mainloop()"
   ]
  },
  {
   "cell_type": "code",
   "execution_count": 1,
   "metadata": {},
   "outputs": [],
   "source": [
    "import turtle\n",
    "import math\n",
    "bob = turtle.Turtle()\n",
    "def polyline(t,n,length,angle):\n",
    "    for i in range(n):\n",
    "        t.fd(length)\n",
    "        t.lt(angle)\n",
    "def polygon(t,n,length):\n",
    "    angle = 360/n\n",
    "    polyline(t,n,length,angle)\n",
    "def arc(t,r,angle):\n",
    "    arc_length = 2 * math.pi * r * angle/360 \n",
    "    n = int(arc_length/3)+1\n",
    "    step_length = arc_length/n\n",
    "    step_angle = float(angle)/n\n",
    "    polyline(t,n,step_length,step_angle)\n",
    "arc(bob,60,265)\n",
    "turtle.mainloop()"
   ]
  },
  {
   "cell_type": "code",
   "execution_count": 3,
   "metadata": {},
   "outputs": [
    {
     "name": "stdout",
     "output_type": "stream",
     "text": [
      "1\n",
      "45\n"
     ]
    }
   ],
   "source": [
    "\n",
    "minutes = 105\n",
    "hours = 105//60\n",
    "print(hours)\n",
    "min = 105%60\n",
    "print(min)"
   ]
  },
  {
   "cell_type": "code",
   "execution_count": 4,
   "metadata": {},
   "outputs": [
    {
     "name": "stdout",
     "output_type": "stream",
     "text": [
      "x greater\n"
     ]
    }
   ],
   "source": [
    "\n",
    "x=15\n",
    "y=10\n",
    "if x<y:\n",
    "    print('x is lesser')\n",
    "elif x>y:\n",
    "    print('x greater')\n",
    "else:\n",
    "    print('equal')"
   ]
  },
  {
   "cell_type": "code",
   "execution_count": 5,
   "metadata": {},
   "outputs": [
    {
     "name": "stdout",
     "output_type": "stream",
     "text": [
      "Sisya\n",
      "Sisya\n",
      "Sisya\n"
     ]
    }
   ],
   "source": [
    "def print_n(s,n):\n",
    "    if n<=0:\n",
    "        return\n",
    "    else:\n",
    "        print(s)\n",
    "        print_n(s,n-1)\n",
    "print_n(s=\"Sisya\",n=3)"
   ]
  },
  {
   "cell_type": "code",
   "execution_count": 6,
   "metadata": {},
   "outputs": [
    {
     "name": "stdout",
     "output_type": "stream",
     "text": [
      "Enter your weight in kgs55\n",
      "55Kgs\n"
     ]
    }
   ],
   "source": [
    "weight = input(\"Enter your weight in kgs\")\n",
    "weight = int(weight)\n",
    "print(str(weight)+\"Kgs\")"
   ]
  },
  {
   "cell_type": "code",
   "execution_count": 7,
   "metadata": {},
   "outputs": [
    {
     "name": "stdout",
     "output_type": "stream",
     "text": [
      "man he was right\n"
     ]
    }
   ],
   "source": [
    "#Fermats theorem\n",
    "import math\n",
    "def fermat(a,b,c,n):\n",
    "    lhs=a**n+b**n\n",
    "    rhs = c**n\n",
    "    if lhs==rhs and n>2:\n",
    "        print(\"holy smoke fermat was wrong\")\n",
    "    elif lhs==rhs and n<2:\n",
    "        print('man he was right')\n",
    "    else:\n",
    "        print(\"They not equal\")\n",
    "fermat(1,1,2,1)"
   ]
  },
  {
   "cell_type": "code",
   "execution_count": 8,
   "metadata": {},
   "outputs": [
    {
     "name": "stdout",
     "output_type": "stream",
     "text": [
      "enter 3 values2\n",
      "3\n",
      "5\n",
      "\n",
      "no\n"
     ]
    }
   ],
   "source": [
    "import math\n",
    "def is_triangle(a,b,c):\n",
    "        \n",
    "    if a>b+c or b>a+c or c>b+a:\n",
    "        print(\"no\")\n",
    "    else:\n",
    "        print('yes')\n",
    "\n",
    "input(\"enter 3 values\")\n",
    "a, b, c=input(),input(),input()\n",
    "is_triangle(a,b,c)"
   ]
  },
  {
   "cell_type": "code",
   "execution_count": 8,
   "metadata": {},
   "outputs": [],
   "source": [
    "#Koch curve\n",
    "import turtle\n",
    "bob = turtle.Turtle()\n",
    "def koch(length,t):\n",
    "    if length<3:\n",
    "        t.fd(length)\n",
    "    else:\n",
    "        koch(length/3,t)\n",
    "        t.lt(60)\n",
    "        koch(length/3,t)\n",
    "        t.rt(120)\n",
    "        koch(length/3,t)\n",
    "        t.lt(60)\n",
    "        koch(length/3,t)\n",
    "koch(300,bob)\n",
    "turtle.mainloop()"
   ]
  },
  {
   "cell_type": "code",
   "execution_count": 1,
   "metadata": {},
   "outputs": [
    {
     "name": "stdout",
     "output_type": "stream",
     "text": [
      "-1\n"
     ]
    }
   ],
   "source": [
    "def greater(x,y):\n",
    "    if x<y:\n",
    "        return -1\n",
    "    if x>y:\n",
    "        return +1\n",
    "    elif x==y:\n",
    "        return 0\n",
    "print(greater(3,4)) "
   ]
  },
  {
   "cell_type": "code",
   "execution_count": 2,
   "metadata": {},
   "outputs": [
    {
     "name": "stdout",
     "output_type": "stream",
     "text": [
      "The hypotenuse is 5.0\n"
     ]
    }
   ],
   "source": [
    "\n",
    "import math    \n",
    "def hypotenuse(x,y):\n",
    "    xsquare = x**2\n",
    "    ysquare = y**2\n",
    "    hypotenuse = math.sqrt(xsquare+ysquare)\n",
    "    print('The hypotenuse is',hypotenuse)\n",
    "hypotenuse(3,4)"
   ]
  },
  {
   "cell_type": "code",
   "execution_count": 3,
   "metadata": {},
   "outputs": [
    {
     "name": "stdout",
     "output_type": "stream",
     "text": [
      "hiyya\n"
     ]
    }
   ],
   "source": [
    "\n",
    "def is_between(x,y,z):\n",
    "    return x<=y<=z\n",
    "if is_between(1,2,3):\n",
    "    print('hiyya')"
   ]
  },
  {
   "cell_type": "code",
   "execution_count": 4,
   "metadata": {},
   "outputs": [
    {
     "name": "stdout",
     "output_type": "stream",
     "text": [
      "ENTER A NUMBER8\n",
      "The nth fibonacci number entered by you is 21\n"
     ]
    }
   ],
   "source": [
    "def fibonacci(n):\n",
    "    if n==0:\n",
    "        return 0\n",
    "    elif n==1:\n",
    "        return 1\n",
    "    else:\n",
    "        return fibonacci(n-1)+fibonacci(n-2)\n",
    "n = int(input(\"ENTER A NUMBER\"))\n",
    "print('The nth fibonacci number entered by you is',fibonacci(n))"
   ]
  },
  {
   "cell_type": "code",
   "execution_count": 5,
   "metadata": {},
   "outputs": [
    {
     "name": "stdout",
     "output_type": "stream",
     "text": [
      "factorial only for +ve numbers\n",
      "None\n"
     ]
    }
   ],
   "source": [
    "def factorial(n):\n",
    "    if not isinstance(n,int):\n",
    "        print('Factorial only for integers')\n",
    "        return None\n",
    "    elif n<0:\n",
    "        print('factorial only for +ve numbers')\n",
    "        return None\n",
    "    elif n==0:\n",
    "        return 1\n",
    "    else:\n",
    "        return factorial(n-1) * n\n",
    "print(factorial(-100))"
   ]
  },
  {
   "cell_type": "code",
   "execution_count": 6,
   "metadata": {},
   "outputs": [
    {
     "name": "stdout",
     "output_type": "stream",
     "text": [
      "125\n"
     ]
    }
   ],
   "source": [
    "#ACKERMAN FUNCTION\n",
    "def ackerman(m,n):\n",
    "    if m==0:\n",
    "        return n+1\n",
    "    elif m>0 and n==0:\n",
    "        return ackerman(m-1,1)\n",
    "    elif m>0 and n>0:\n",
    "        return ackerman(m-1,ackerman(m,n-1))\n",
    "    \n",
    "print(ackerman(3,4))"
   ]
  },
  {
   "cell_type": "code",
   "execution_count": 7,
   "metadata": {},
   "outputs": [
    {
     "name": "stdout",
     "output_type": "stream",
     "text": [
      "True\n"
     ]
    }
   ],
   "source": [
    "#PALINDROME\n",
    "def first(word):\n",
    "    return word[0]\n",
    "def last(word):\n",
    "    return word[-1]\n",
    "def middle(word):\n",
    "    return word[1:-1]\n",
    "def is_palindrome(word):\n",
    "    if len(word)<=1:\n",
    "        return True\n",
    "    if first(word)==last(word) and is_palindrome(middle(word)):\n",
    "        return True\n",
    "    else:\n",
    "        return False\n",
    "myString = \"malayalam\"\n",
    "print(is_palindrome(myString))"
   ]
  },
  {
   "cell_type": "code",
   "execution_count": 10,
   "metadata": {},
   "outputs": [
    {
     "name": "stdout",
     "output_type": "stream",
     "text": [
      "Requirement already satisfied: jupyterthemes in c:\\users\\nirmal narasimha\\anaconda3\\lib\\site-packages (0.20.0)\n",
      "Requirement already satisfied: notebook>=5.6.0 in c:\\users\\nirmal narasimha\\anaconda3\\lib\\site-packages (from jupyterthemes) (6.0.3)\n",
      "Requirement already satisfied: ipython>=5.4.1 in c:\\users\\nirmal narasimha\\anaconda3\\lib\\site-packages (from jupyterthemes) (7.16.1)\n",
      "Requirement already satisfied: matplotlib>=1.4.3 in c:\\users\\nirmal narasimha\\anaconda3\\lib\\site-packages (from jupyterthemes) (3.2.2)\n",
      "Requirement already satisfied: jupyter-core in c:\\users\\nirmal narasimha\\anaconda3\\lib\\site-packages (from jupyterthemes) (4.6.3)\n",
      "Requirement already satisfied: lesscpy>=0.11.2 in c:\\users\\nirmal narasimha\\anaconda3\\lib\\site-packages (from jupyterthemes) (0.14.0)\n",
      "Requirement already satisfied: pyzmq>=17 in c:\\users\\nirmal narasimha\\anaconda3\\lib\\site-packages (from notebook>=5.6.0->jupyterthemes) (19.0.1)\n",
      "Requirement already satisfied: traitlets>=4.2.1 in c:\\users\\nirmal narasimha\\anaconda3\\lib\\site-packages (from notebook>=5.6.0->jupyterthemes) (4.3.3)\n",
      "Requirement already satisfied: nbformat in c:\\users\\nirmal narasimha\\anaconda3\\lib\\site-packages (from notebook>=5.6.0->jupyterthemes) (5.0.7)\n",
      "Requirement already satisfied: Send2Trash in c:\\users\\nirmal narasimha\\anaconda3\\lib\\site-packages (from notebook>=5.6.0->jupyterthemes) (1.5.0)\n",
      "Requirement already satisfied: ipython-genutils in c:\\users\\nirmal narasimha\\anaconda3\\lib\\site-packages (from notebook>=5.6.0->jupyterthemes) (0.2.0)\n",
      "Requirement already satisfied: jupyter-client>=5.3.4 in c:\\users\\nirmal narasimha\\anaconda3\\lib\\site-packages (from notebook>=5.6.0->jupyterthemes) (6.1.6)\n",
      "Requirement already satisfied: jinja2 in c:\\users\\nirmal narasimha\\anaconda3\\lib\\site-packages (from notebook>=5.6.0->jupyterthemes) (2.11.2)\n",
      "Requirement already satisfied: terminado>=0.8.1 in c:\\users\\nirmal narasimha\\anaconda3\\lib\\site-packages (from notebook>=5.6.0->jupyterthemes) (0.8.3)\n",
      "Requirement already satisfied: prometheus-client in c:\\users\\nirmal narasimha\\anaconda3\\lib\\site-packages (from notebook>=5.6.0->jupyterthemes) (0.8.0)\n",
      "Requirement already satisfied: ipykernel in c:\\users\\nirmal narasimha\\anaconda3\\lib\\site-packages (from notebook>=5.6.0->jupyterthemes) (5.3.2)\n",
      "Requirement already satisfied: tornado>=5.0 in c:\\users\\nirmal narasimha\\anaconda3\\lib\\site-packages (from notebook>=5.6.0->jupyterthemes) (6.0.4)\n",
      "Requirement already satisfied: nbconvert in c:\\users\\nirmal narasimha\\anaconda3\\lib\\site-packages (from notebook>=5.6.0->jupyterthemes) (5.6.1)\n",
      "Requirement already satisfied: decorator in c:\\users\\nirmal narasimha\\anaconda3\\lib\\site-packages (from ipython>=5.4.1->jupyterthemes) (4.4.2)\n",
      "Requirement already satisfied: pickleshare in c:\\users\\nirmal narasimha\\anaconda3\\lib\\site-packages (from ipython>=5.4.1->jupyterthemes) (0.7.5)\n",
      "Requirement already satisfied: prompt-toolkit!=3.0.0,!=3.0.1,<3.1.0,>=2.0.0 in c:\\users\\nirmal narasimha\\anaconda3\\lib\\site-packages (from ipython>=5.4.1->jupyterthemes) (3.0.5)\n",
      "Requirement already satisfied: setuptools>=18.5 in c:\\users\\nirmal narasimha\\anaconda3\\lib\\site-packages (from ipython>=5.4.1->jupyterthemes) (49.2.0.post20200714)\n",
      "Requirement already satisfied: backcall in c:\\users\\nirmal narasimha\\anaconda3\\lib\\site-packages (from ipython>=5.4.1->jupyterthemes) (0.2.0)\n",
      "Requirement already satisfied: pygments in c:\\users\\nirmal narasimha\\anaconda3\\lib\\site-packages (from ipython>=5.4.1->jupyterthemes) (2.6.1)\n",
      "Requirement already satisfied: colorama; sys_platform == \"win32\" in c:\\users\\nirmal narasimha\\appdata\\roaming\\python\\python38\\site-packages (from ipython>=5.4.1->jupyterthemes) (0.4.4)\n",
      "Requirement already satisfied: jedi>=0.10 in c:\\users\\nirmal narasimha\\anaconda3\\lib\\site-packages (from ipython>=5.4.1->jupyterthemes) (0.17.1)\n",
      "Requirement already satisfied: numpy>=1.11 in c:\\users\\nirmal narasimha\\anaconda3\\lib\\site-packages (from matplotlib>=1.4.3->jupyterthemes) (1.18.5)\n",
      "Requirement already satisfied: kiwisolver>=1.0.1 in c:\\users\\nirmal narasimha\\anaconda3\\lib\\site-packages (from matplotlib>=1.4.3->jupyterthemes) (1.2.0)\n",
      "Requirement already satisfied: python-dateutil>=2.1 in c:\\users\\nirmal narasimha\\anaconda3\\lib\\site-packages (from matplotlib>=1.4.3->jupyterthemes) (2.8.1)\n",
      "Requirement already satisfied: cycler>=0.10 in c:\\users\\nirmal narasimha\\anaconda3\\lib\\site-packages (from matplotlib>=1.4.3->jupyterthemes) (0.10.0)\n",
      "Requirement already satisfied: pyparsing!=2.0.4,!=2.1.2,!=2.1.6,>=2.0.1 in c:\\users\\nirmal narasimha\\anaconda3\\lib\\site-packages (from matplotlib>=1.4.3->jupyterthemes) (2.4.7)\n",
      "Requirement already satisfied: pywin32>=1.0; sys_platform == \"win32\" in c:\\users\\nirmal narasimha\\anaconda3\\lib\\site-packages (from jupyter-core->jupyterthemes) (227)\n",
      "Requirement already satisfied: six in c:\\users\\nirmal narasimha\\appdata\\roaming\\python\\python38\\site-packages (from lesscpy>=0.11.2->jupyterthemes) (1.15.0)\n",
      "Requirement already satisfied: ply in c:\\users\\nirmal narasimha\\anaconda3\\lib\\site-packages (from lesscpy>=0.11.2->jupyterthemes) (3.11)\n",
      "Requirement already satisfied: jsonschema!=2.5.0,>=2.4 in c:\\users\\nirmal narasimha\\anaconda3\\lib\\site-packages (from nbformat->notebook>=5.6.0->jupyterthemes) (3.2.0)\n",
      "Requirement already satisfied: MarkupSafe>=0.23 in c:\\users\\nirmal narasimha\\anaconda3\\lib\\site-packages (from jinja2->notebook>=5.6.0->jupyterthemes) (1.1.1)\n",
      "Requirement already satisfied: mistune<2,>=0.8.1 in c:\\users\\nirmal narasimha\\anaconda3\\lib\\site-packages (from nbconvert->notebook>=5.6.0->jupyterthemes) (0.8.4)\n",
      "Requirement already satisfied: bleach in c:\\users\\nirmal narasimha\\anaconda3\\lib\\site-packages (from nbconvert->notebook>=5.6.0->jupyterthemes) (3.1.5)\n",
      "Requirement already satisfied: pandocfilters>=1.4.1 in c:\\users\\nirmal narasimha\\anaconda3\\lib\\site-packages (from nbconvert->notebook>=5.6.0->jupyterthemes) (1.4.2)\n",
      "Requirement already satisfied: defusedxml in c:\\users\\nirmal narasimha\\anaconda3\\lib\\site-packages (from nbconvert->notebook>=5.6.0->jupyterthemes) (0.6.0)\n",
      "Requirement already satisfied: testpath in c:\\users\\nirmal narasimha\\anaconda3\\lib\\site-packages (from nbconvert->notebook>=5.6.0->jupyterthemes) (0.4.4)\n",
      "Requirement already satisfied: entrypoints>=0.2.2 in c:\\users\\nirmal narasimha\\anaconda3\\lib\\site-packages (from nbconvert->notebook>=5.6.0->jupyterthemes) (0.3)\n",
      "Requirement already satisfied: wcwidth in c:\\users\\nirmal narasimha\\anaconda3\\lib\\site-packages (from prompt-toolkit!=3.0.0,!=3.0.1,<3.1.0,>=2.0.0->ipython>=5.4.1->jupyterthemes) (0.2.5)\n",
      "Requirement already satisfied: parso<0.8.0,>=0.7.0 in c:\\users\\nirmal narasimha\\anaconda3\\lib\\site-packages (from jedi>=0.10->ipython>=5.4.1->jupyterthemes) (0.7.0)\n",
      "Requirement already satisfied: attrs>=17.4.0 in c:\\users\\nirmal narasimha\\anaconda3\\lib\\site-packages (from jsonschema!=2.5.0,>=2.4->nbformat->notebook>=5.6.0->jupyterthemes) (19.3.0)\n",
      "Requirement already satisfied: pyrsistent>=0.14.0 in c:\\users\\nirmal narasimha\\anaconda3\\lib\\site-packages (from jsonschema!=2.5.0,>=2.4->nbformat->notebook>=5.6.0->jupyterthemes) (0.16.0)\n",
      "Requirement already satisfied: webencodings in c:\\users\\nirmal narasimha\\anaconda3\\lib\\site-packages (from bleach->nbconvert->notebook>=5.6.0->jupyterthemes) (0.5.1)\n",
      "Requirement already satisfied: packaging in c:\\users\\nirmal narasimha\\anaconda3\\lib\\site-packages (from bleach->nbconvert->notebook>=5.6.0->jupyterthemes) (20.4)\n"
     ]
    }
   ],
   "source": [
    "!pip install jupyterthemes"
   ]
  },
  {
   "cell_type": "code",
   "execution_count": 11,
   "metadata": {},
   "outputs": [
    {
     "name": "stdout",
     "output_type": "stream",
     "text": [
      "Available Themes: \n",
      "   chesterish\n",
      "   grade3\n",
      "   gruvboxd\n",
      "   gruvboxl\n",
      "   monokai\n",
      "   oceans16\n",
      "   onedork\n",
      "   solarizedd\n",
      "   solarizedl\n"
     ]
    }
   ],
   "source": [
    "!jt -l"
   ]
  },
  {
   "cell_type": "code",
   "execution_count": 13,
   "metadata": {},
   "outputs": [],
   "source": [
    "!jt -t onedork"
   ]
  },
  {
   "cell_type": "code",
   "execution_count": 6,
   "metadata": {},
   "outputs": [
    {
     "name": "stdin",
     "output_type": "stream",
     "text": [
      "enter two numbers 8\n",
      " 2\n"
     ]
    },
    {
     "name": "stdout",
     "output_type": "stream",
     "text": [
      "8 is a power of 2\n"
     ]
    }
   ],
   "source": [
    "#Power of or not\n",
    "def is_divisible(a,b):\n",
    "    if a%b==0:\n",
    "        return True\n",
    "    else:\n",
    "        return False\n",
    "def is_power(a,b):\n",
    "    if is_divisible(a,b) and is_power((a/b),b) or a==b:\n",
    "        return True\n",
    "    else:\n",
    "        return False\n",
    "x,y = int(input(\"enter two numbers\")),int(input())  \n",
    "if(is_power(x,y)):\n",
    "    print(x,\"is a power of\",y)\n",
    "else:\n",
    "    print(x,\"is not a power of \",y)"
   ]
  },
  {
   "cell_type": "code",
   "execution_count": 1,
   "metadata": {},
   "outputs": [
    {
     "name": "stdin",
     "output_type": "stream",
     "text": [
      "> line\n"
     ]
    },
    {
     "name": "stdout",
     "output_type": "stream",
     "text": [
      "line\n"
     ]
    },
    {
     "name": "stdin",
     "output_type": "stream",
     "text": [
      "> boss\n"
     ]
    },
    {
     "name": "stdout",
     "output_type": "stream",
     "text": [
      "boss\n"
     ]
    },
    {
     "name": "stdin",
     "output_type": "stream",
     "text": [
      "> rod\n"
     ]
    },
    {
     "name": "stdout",
     "output_type": "stream",
     "text": [
      "rod\n"
     ]
    },
    {
     "name": "stdin",
     "output_type": "stream",
     "text": [
      "> done\n"
     ]
    },
    {
     "name": "stdout",
     "output_type": "stream",
     "text": [
      "Done!\n"
     ]
    }
   ],
   "source": [
    "#WHILE STATEMENT\n",
    "def jump():\n",
    "    while True:\n",
    "        line = input('>')\n",
    "        if line == 'done':\n",
    "            break\n",
    "        print(line)\n",
    "    print(\"Done!\")\n",
    "jump()"
   ]
  },
  {
   "cell_type": "code",
   "execution_count": 4,
   "metadata": {},
   "outputs": [
    {
     "name": "stdout",
     "output_type": "stream",
     "text": [
      "3\n",
      "2.1666666666666665\n",
      "2.0064102564102564\n",
      "2.0000102400262145\n",
      "2.0000000000262146\n",
      "2.0\n"
     ]
    }
   ],
   "source": [
    "#NEWTONS METHOD\n",
    "def squareroot(a,x):\n",
    "    while True:\n",
    "        epsilon = 0.0000001\n",
    "        print(x)\n",
    "        y = (x+a/x)/2\n",
    "        if abs(y-x)<epsilon:\n",
    "            break\n",
    "        x=y\n",
    "    return y\n",
    "print(squareroot(4,3))"
   ]
  },
  {
   "cell_type": "code",
   "execution_count": 7,
   "metadata": {},
   "outputs": [
    {
     "name": "stdin",
     "output_type": "stream",
     "text": [
      "enter an expression 2*3+1\n"
     ]
    },
    {
     "name": "stdout",
     "output_type": "stream",
     "text": [
      "7\n"
     ]
    },
    {
     "name": "stdin",
     "output_type": "stream",
     "text": [
      "enter an expression done\n"
     ]
    }
   ],
   "source": [
    "def eveluation():\n",
    "    while True:\n",
    "        expression = input('enter an expression')\n",
    "        if expression == 'done':\n",
    "            break\n",
    "        else:\n",
    "            res = eval(expression)\n",
    "            print(res)\n",
    "eveluation()"
   ]
  },
  {
   "cell_type": "code",
   "execution_count": 54,
   "metadata": {},
   "outputs": [
    {
     "name": "stdout",
     "output_type": "stream",
     "text": [
      "3.141592653589793\n"
     ]
    }
   ],
   "source": [
    "#RAMANUJAM EXPRESSION\n",
    "import math\n",
    "def fact(n):\n",
    "    if n==0:\n",
    "        return 1\n",
    "    else:\n",
    "        return n*fact(n-1)\n",
    "\n",
    "def estimate_pi():\n",
    "    const = 2*math.sqrt(2)/9801\n",
    "    k=0\n",
    "    total=0\n",
    "    while True:\n",
    "        numerator = fact(4*k)*(1103+26390*k)\n",
    "        denominator = fact(k)**4 * 396**(4*k)\n",
    "        res = const * numerator/denominator\n",
    "        total+=res\n",
    "        if abs(res)<1e-15:\n",
    "            break\n",
    "        else:\n",
    "            \n",
    "            k+=1\n",
    "    return 1/total\n",
    "print(estimate_pi())\n",
    "            \n",
    "        "
   ]
  },
  {
   "cell_type": "code",
   "execution_count": 1,
   "metadata": {},
   "outputs": [
    {
     "name": "stdout",
     "output_type": "stream",
     "text": [
      "a\n"
     ]
    }
   ],
   "source": [
    " #STRINGS\n",
    "word = \"Banana\"\n",
    "length = len(word)\n",
    "print(word[length-1])\n",
    "    \n"
   ]
  },
  {
   "cell_type": "code",
   "execution_count": 5,
   "metadata": {},
   "outputs": [
    {
     "name": "stdout",
     "output_type": "stream",
     "text": [
      "a\n",
      "\n",
      "n\n",
      "\n",
      "a\n",
      "\n",
      "n\n",
      "\n",
      "a\n",
      "\n",
      "B\n",
      "\n",
      "B\n",
      "a\n",
      "n\n",
      "a\n",
      "n\n",
      "a\n",
      "Ban\n",
      "ana\n",
      "Ban\n"
     ]
    }
   ],
   "source": [
    "word = \"Banana\"\n",
    "index = 0\n",
    "while index<len(word):\n",
    "    letter = word[len(word)-index-1]\n",
    "    print(letter+'\\n')\n",
    "    index+=1\n",
    "for letter in word:\n",
    "    print(letter)\n",
    "print(word[0:3])\n",
    "print(word[3:])\n",
    "print(word[:3])"
   ]
  },
  {
   "cell_type": "code",
   "execution_count": 9,
   "metadata": {},
   "outputs": [
    {
     "name": "stdout",
     "output_type": "stream",
     "text": [
      "1\n"
     ]
    }
   ],
   "source": [
    "#COUNTER\n",
    "def counter(word,letter):\n",
    "    count = 0\n",
    "    for let in word:\n",
    "        if let == letter:\n",
    "            count+=1\n",
    "    return count\n",
    "print(counter('banana','b'))"
   ]
  },
  {
   "cell_type": "code",
   "execution_count": 11,
   "metadata": {},
   "outputs": [
    {
     "name": "stdout",
     "output_type": "stream",
     "text": [
      "NIRMAL\n",
      "3\n"
     ]
    }
   ],
   "source": [
    "word = 'Nirmal'\n",
    "print(word.upper())\n",
    "print(word.find('m',1,4))"
   ]
  },
  {
   "cell_type": "code",
   "execution_count": 14,
   "metadata": {},
   "outputs": [
    {
     "name": "stdout",
     "output_type": "stream",
     "text": [
      "a\n"
     ]
    }
   ],
   "source": [
    "#in operator\n",
    "def in_both(word1,word2):\n",
    "    for letter in word1:\n",
    "        if letter in word2:\n",
    "            print(letter)\n",
    "in_both('apple','banana')"
   ]
  },
  {
   "cell_type": "code",
   "execution_count": 15,
   "metadata": {},
   "outputs": [
    {
     "data": {
      "text/plain": [
       "3"
      ]
     },
     "execution_count": 15,
     "metadata": {},
     "output_type": "execute_result"
    }
   ],
   "source": [
    "word  = 'banana'\n",
    "word.count('a')"
   ]
  },
  {
   "cell_type": "code",
   "execution_count": 20,
   "metadata": {},
   "outputs": [
    {
     "data": {
      "text/plain": [
       "True"
      ]
     },
     "execution_count": 20,
     "metadata": {},
     "output_type": "execute_result"
    }
   ],
   "source": [
    "def is_palindrome(word):\n",
    "    if word == word[::-1]:#[::-1] -1 is step size goes through it backward \n",
    "        return True\n",
    "    return False\n",
    "is_palindrome(\"malayalam\")"
   ]
  },
  {
   "cell_type": "code",
   "execution_count": 23,
   "metadata": {},
   "outputs": [
    {
     "data": {
      "text/plain": [
       "True"
      ]
     },
     "execution_count": 23,
     "metadata": {},
     "output_type": "execute_result"
    }
   ],
   "source": [
    "def lowa(word):\n",
    "    for c in word:\n",
    "        if not c.islower():\n",
    "            return False\n",
    "    return True\n",
    "lowa(\"boss\")\n",
    "            "
   ]
  },
  {
   "cell_type": "code",
   "execution_count": 48,
   "metadata": {},
   "outputs": [
    {
     "data": {
      "text/plain": [
       "'Latha'"
      ]
     },
     "execution_count": 48,
     "metadata": {},
     "output_type": "execute_result"
    }
   ],
   "source": [
    "#CAESAR CIPHER SIMPLE\n",
    "def caesar(word, rot):\n",
    "    i = 0\n",
    "    encoded = ''\n",
    "    for letter in word:\n",
    "        if letter.isupper():\n",
    "            encval = ord(letter) - ord('A')\n",
    "            charval = (encval + rot)%26 + ord('A')\n",
    "        elif letter.islower():\n",
    "            encval = ord(letter) - ord('a')\n",
    "            charval = (encval + rot)%26 + ord('a')\n",
    "        else:\n",
    "            return\n",
    "        encoded = encoded + chr(charval)\n",
    "        i+=1\n",
    "    return encoded\n",
    "def caesarD(cypher,rot):\n",
    "    i = 0\n",
    "    word = ''\n",
    "    for letter in cypher:\n",
    "        if letter.isupper():\n",
    "            encval = ord(letter) - ord('A')\n",
    "            charval = (encval - rot)%26 + ord('A')\n",
    "        elif letter.islower():\n",
    "            encval = ord(letter) - ord('a')\n",
    "            charval = (encval - rot)%26 + ord('a')\n",
    "        else:\n",
    "            return\n",
    "        word = word + chr(charval)\n",
    "        i+=1\n",
    "    return word\n",
    "        \n",
    "caesarD('Xmftm',12)\n",
    "\n",
    "\n",
    "        "
   ]
  },
  {
   "cell_type": "code",
   "execution_count": 55,
   "metadata": {},
   "outputs": [
    {
     "name": "stdout",
     "output_type": "stream",
     "text": [
      "Xmftm\n"
     ]
    }
   ],
   "source": [
    "#CAESAR CYPHER WITH LETTER ROTATE\n",
    "def rotate_letter(letter,n):\n",
    "    if letter.isupper():\n",
    "        start = ord('A')\n",
    "    elif letter.islower():\n",
    "        start = ord('a')\n",
    "    else:\n",
    "        return letter\n",
    "    cval = ord(letter) - start\n",
    "    encval = (cval+n)%26 + start\n",
    "    return chr(encval)\n",
    "def caesar(word,n):\n",
    "    string = ''\n",
    "    for letter in word:\n",
    "        string += rotate_letter(letter,n)\n",
    "    return string\n",
    "print(caesar('Latha',12))\n",
    "        "
   ]
  },
  {
   "cell_type": "code",
   "execution_count": 69,
   "metadata": {},
   "outputs": [
    {
     "name": "stdin",
     "output_type": "stream",
     "text": [
      "Input the forbidden letters aeiou\n"
     ]
    },
    {
     "name": "stdout",
     "output_type": "stream",
     "text": [
      "107\n"
     ]
    }
   ],
   "source": [
    "f = open(\"C:/Users/Nirmal Narasimha/Desktop/Python snippets/words.txt\")\n",
    "def display():\n",
    "    for word in f:\n",
    "        newword = word.strip()\n",
    "        if len(newword)>20:\n",
    "            print(newword)\n",
    "def forbidden(word,forbidden):\n",
    "    for letter in word:\n",
    "        if letter in forbidden:\n",
    "            return False\n",
    "    return True\n",
    "forbid = input(\"Input the forbidden letters\")\n",
    "count =0\n",
    "for word in f:\n",
    "    if(forbidden(word,forbid)):\n",
    "        count+=1\n",
    "print(count)\n",
    "        "
   ]
  },
  {
   "cell_type": "code",
   "execution_count": 70,
   "metadata": {},
   "outputs": [
    {
     "name": "stdout",
     "output_type": "stream",
     "text": [
      "True\n"
     ]
    }
   ],
   "source": [
    "def is_abecedarian(word):\n",
    "    previous=word[0]\n",
    "    for letter in word:\n",
    "        if previous > letter:\n",
    "            return False\n",
    "        previous = letter\n",
    "    return True\n",
    "print(is_abecedarian('abc'))"
   ]
  },
  {
   "cell_type": "code",
   "execution_count": 1,
   "metadata": {},
   "outputs": [
    {
     "name": "stdout",
     "output_type": "stream",
     "text": [
      "['Sir', 1, 1.5, 'bob']\n"
     ]
    }
   ],
   "source": [
    "#LISTS\n",
    "names = [\"Nirmal\",\"Boss\",\"Rod\"]\n",
    "myList = [\"Sir\",1,1.5,[1,2,3]]\n",
    "#LISTS ARE MUTABLE\n",
    "myList[3] = \"bob\"\n",
    "print(myList)"
   ]
  },
  {
   "cell_type": "code",
   "execution_count": 2,
   "metadata": {},
   "outputs": [
    {
     "name": "stdout",
     "output_type": "stream",
     "text": [
      "True\n"
     ]
    }
   ],
   "source": [
    "print('bob' in myList)"
   ]
  },
  {
   "cell_type": "code",
   "execution_count": 3,
   "metadata": {},
   "outputs": [
    {
     "name": "stdout",
     "output_type": "stream",
     "text": [
      "Narasimha\n",
      "Boss\n",
      "Rod\n"
     ]
    }
   ],
   "source": [
    "for i in range(len(names)):\n",
    "    if i == 0:\n",
    "        names[i] = \"Narasimha\"\n",
    "for name in names:\n",
    "    print(name)"
   ]
  },
  {
   "cell_type": "code",
   "execution_count": 5,
   "metadata": {},
   "outputs": [
    {
     "name": "stdout",
     "output_type": "stream",
     "text": [
      "[1, 2, 3, 4, 5, 6, 'bsd']\n",
      "[3, 4, 5]\n"
     ]
    }
   ],
   "source": [
    "#LIST METHODS CONCATENATE AND SLICE\n",
    "a = [1,2,3,4]\n",
    "b = [5,6,'bsd']\n",
    "c = a+b\n",
    "print(c)\n",
    "print(c[2:5])"
   ]
  },
  {
   "cell_type": "code",
   "execution_count": 9,
   "metadata": {},
   "outputs": [
    {
     "name": "stdout",
     "output_type": "stream",
     "text": [
      "[1, 2, 3, 10]\n",
      "[1, 2, 3, 10, 34, 5, 6]\n",
      "[5, 6, 34]\n",
      "45\n"
     ]
    }
   ],
   "source": [
    "#LIST METHODS\n",
    "l1 = [1,2,3]\n",
    "l2 = [34,5,6]\n",
    "l1.append(10)\n",
    "print(l1)\n",
    "l1.extend(l2)\n",
    "print(l1)\n",
    "l2.sort()\n",
    "print(l2)\n",
    "l3 = sum(l2)\n",
    "print(l3)"
   ]
  },
  {
   "cell_type": "code",
   "execution_count": 13,
   "metadata": {},
   "outputs": [
    {
     "name": "stdout",
     "output_type": "stream",
     "text": [
      "the lists are 2 None [1, 3, 6, 7, 8]\n"
     ]
    }
   ],
   "source": [
    "#DELETING\n",
    "#pop removes when we know index\n",
    "l = [1,2,3,4,5,6,7,8,9]\n",
    "l1 = l.pop(1)\n",
    "#del can be used to remove many\n",
    "del l[2:4]\n",
    "#remove when we know element\n",
    "l3 = l.remove(9)\n",
    "print('the lists are',l1,l3,l)"
   ]
  },
  {
   "cell_type": "code",
   "execution_count": 14,
   "metadata": {},
   "outputs": [
    {
     "name": "stdout",
     "output_type": "stream",
     "text": [
      "['I', ' ', 'a', 'm', ' ', 'n', 'y', ' ', 'o', 'w', 'n', ' ', 'b', 'o', 's', 's'] ['I', 'am', 'ny', 'own', 'boss'] I am ny own boss\n"
     ]
    }
   ],
   "source": [
    "#LISTS AND STRINGS\n",
    "s = \"I am ny own boss\"\n",
    "t1 = list(s)\n",
    "delimiter = ' '\n",
    "t2 = s.split(delimiter)\n",
    "s1 = delimiter.join(t2)\n",
    "print(t1,t2,s1)"
   ]
  },
  {
   "cell_type": "code",
   "execution_count": 15,
   "metadata": {},
   "outputs": [
    {
     "name": "stdout",
     "output_type": "stream",
     "text": [
      "a is identical to b\n",
      "c isnt identical to d\n"
     ]
    }
   ],
   "source": [
    "#is operator used to check if 2objects are identical\n",
    "a = 'banana'\n",
    "b = 'banana'\n",
    "c = [1,2,3]\n",
    "d = [1,2,3]\n",
    "if a is b:\n",
    "    print('a is identical to b')\n",
    "if c is not d:\n",
    "    print('c isnt identical to d')"
   ]
  },
  {
   "cell_type": "code",
   "execution_count": 16,
   "metadata": {},
   "outputs": [
    {
     "data": {
      "text/plain": [
       "19"
      ]
     },
     "execution_count": 16,
     "metadata": {},
     "output_type": "execute_result"
    }
   ],
   "source": [
    "def nested_sum(t):\n",
    "    total = 0\n",
    "    for i in t:\n",
    "        for j in i:\n",
    "            total+=j\n",
    "    return total\n",
    "nested_sum([[1],[2,3,4],[4,5]])\n",
    "        "
   ]
  },
  {
   "cell_type": "code",
   "execution_count": 19,
   "metadata": {},
   "outputs": [
    {
     "data": {
      "text/plain": [
       "[1, 4, 10]"
      ]
     },
     "execution_count": 19,
     "metadata": {},
     "output_type": "execute_result"
    }
   ],
   "source": [
    "def cumsum(t):\n",
    "    cumulative = 0\n",
    "    for i in range(len(t)):\n",
    "        cumulative += t[i]\n",
    "        t[i] = cumulative\n",
    "    return t\n",
    "cumsum([1,3,6])"
   ]
  },
  {
   "cell_type": "code",
   "execution_count": 20,
   "metadata": {},
   "outputs": [
    {
     "data": {
      "text/plain": [
       "[2, 3]"
      ]
     },
     "execution_count": 20,
     "metadata": {},
     "output_type": "execute_result"
    }
   ],
   "source": [
    "def middle(t):\n",
    "    length = len(t)\n",
    "    del t[length-1]\n",
    "    del t[0]\n",
    "    return t\n",
    "middle([1,2,3,4])"
   ]
  },
  {
   "cell_type": "code",
   "execution_count": 22,
   "metadata": {},
   "outputs": [
    {
     "name": "stdout",
     "output_type": "stream",
     "text": [
      "[2, 3]\n"
     ]
    }
   ],
   "source": [
    "def chop(t):\n",
    "    length = len(t)\n",
    "    del t[length-1]\n",
    "    del t[0]\n",
    "    return \n",
    "t = [1,2,3,4]\n",
    "chop(t)\n",
    "print(t)"
   ]
  },
  {
   "cell_type": "code",
   "execution_count": 27,
   "metadata": {},
   "outputs": [
    {
     "name": "stdout",
     "output_type": "stream",
     "text": [
      "True\n"
     ]
    }
   ],
   "source": [
    "def is_sorted(t):\n",
    "        boola = (t==sorted(t))\n",
    "        return boola\n",
    "print(is_sorted([1,2,3,4]))"
   ]
  },
  {
   "cell_type": "code",
   "execution_count": 28,
   "metadata": {},
   "outputs": [
    {
     "name": "stdout",
     "output_type": "stream",
     "text": [
      "True\n"
     ]
    }
   ],
   "source": [
    "def anagram(s1,s2):\n",
    "    for letter in s1:\n",
    "        if letter not in s2:\n",
    "            return False\n",
    "    return True\n",
    "print(anagram('bobby','ybbob'))\n",
    "            "
   ]
  },
  {
   "cell_type": "code",
   "execution_count": 30,
   "metadata": {},
   "outputs": [
    {
     "name": "stdout",
     "output_type": "stream",
     "text": [
      "False\n"
     ]
    }
   ],
   "source": [
    "def repeated(s):\n",
    "    t = list(s)\n",
    "    t.sort()\n",
    "    for i in range(len(t)-1):\n",
    "        if t[i] == t[i+1]:\n",
    "            return True\n",
    "    return False\n",
    "print(repeated([1,2,3]))"
   ]
  },
  {
   "cell_type": "code",
   "execution_count": 39,
   "metadata": {},
   "outputs": [
    {
     "name": "stdout",
     "output_type": "stream",
     "text": [
      "[263, 143, 166, 218, 305, 163, 35, 113, 119, 209, 231, 345, 43, 236, 184, 362, 94, 149, 284, 162, 292, 177, 270]\n",
      "None\n"
     ]
    }
   ],
   "source": [
    "import random\n",
    "def createbday(n):\n",
    "    t = []\n",
    "    for i in range(n):\n",
    "        bday = random.randint(1,365)\n",
    "        t.append(bday)\n",
    "    print(t)\n",
    "    has_duplicates(t)\n",
    "    return\n",
    "\n",
    "def has_duplicates(t):\n",
    "    t.sort()\n",
    "    dups = 0\n",
    "    for i in range(len(t)-1):\n",
    "        if t[i] == t[i+1]:\n",
    "            dups+=1\n",
    "    return dups\n",
    "print(createbday(23))\n",
    "            \n",
    "    "
   ]
  },
  {
   "cell_type": "code",
   "execution_count": 7,
   "metadata": {},
   "outputs": [
    {
     "name": "stdout",
     "output_type": "stream",
     "text": [
      "{}\n",
      "{'one': 'uno'}\n",
      "{'two': 'dos', 'three': 'thres'}\n",
      "2\n",
      "True\n",
      "True\n"
     ]
    }
   ],
   "source": [
    "#DICTIONARY\n",
    "eng2sp = dict()\n",
    "print(eng2sp)\n",
    "eng2sp['one'] = 'uno'\n",
    "print(eng2sp)\n",
    "eng2sp = {\n",
    "    'two':'dos',\n",
    "    'three':'thres'\n",
    "}\n",
    "print(eng2sp)\n",
    "print(len(eng2sp))\n",
    "print('two' in eng2sp)\n",
    "vals = eng2sp.values()\n",
    "print('dos' in vals)"
   ]
  },
  {
   "cell_type": "code",
   "execution_count": 8,
   "metadata": {},
   "outputs": [
    {
     "name": "stdout",
     "output_type": "stream",
     "text": [
      "{'n': 1, 'i': 1, 'r': 1, 'm': 1, 'a': 1, 'l': 1}\n"
     ]
    }
   ],
   "source": [
    "#MAKES A COUNTER FOR LETTERS\n",
    "def makeHistogram(s):\n",
    "    d = dict()\n",
    "    for c in s:\n",
    "        if c in d:\n",
    "            d[c]+=1\n",
    "        else:\n",
    "            d[c] = 1\n",
    "    return d\n",
    "print(makeHistogram('nirmal'))"
   ]
  },
  {
   "cell_type": "code",
   "execution_count": 9,
   "metadata": {},
   "outputs": [
    {
     "name": "stdout",
     "output_type": "stream",
     "text": [
      "p 1\n",
      "a 1\n",
      "t 1\n",
      "r 1\n",
      "o 1\n",
      "y 1\n"
     ]
    }
   ],
   "source": [
    "#LOOPING\n",
    "def printHistogram(h):\n",
    "    for key in h:\n",
    "        print(key,h[key])\n",
    "h = makeHistogram('patroy')\n",
    "printHistogram(h)"
   ]
  },
  {
   "cell_type": "code",
   "execution_count": 11,
   "metadata": {},
   "outputs": [
    {
     "ename": "LookupError",
     "evalue": "The key for the supplied value noyt found",
     "output_type": "error",
     "traceback": [
      "\u001b[1;31m---------------------------------------------------------------------------\u001b[0m",
      "\u001b[1;31mLookupError\u001b[0m                               Traceback (most recent call last)",
      "\u001b[1;32m<ipython-input-11-6f269bc15c81>\u001b[0m in \u001b[0;36m<module>\u001b[1;34m\u001b[0m\n\u001b[0;32m      6\u001b[0m     \u001b[1;32mraise\u001b[0m \u001b[0mLookupError\u001b[0m\u001b[1;33m(\u001b[0m\u001b[1;34m\"The key for the supplied value noyt found\"\u001b[0m\u001b[1;33m)\u001b[0m\u001b[1;31m#Used to throw exception\u001b[0m\u001b[1;33m\u001b[0m\u001b[1;33m\u001b[0m\u001b[0m\n\u001b[0;32m      7\u001b[0m \u001b[0mh\u001b[0m \u001b[1;33m=\u001b[0m \u001b[0mmakeHistogram\u001b[0m\u001b[1;33m(\u001b[0m\u001b[1;34m\"Nirmal Narasimha\"\u001b[0m\u001b[1;33m)\u001b[0m\u001b[1;33m\u001b[0m\u001b[1;33m\u001b[0m\u001b[0m\n\u001b[1;32m----> 8\u001b[1;33m \u001b[0mv\u001b[0m \u001b[1;33m=\u001b[0m \u001b[0mrevlookup\u001b[0m\u001b[1;33m(\u001b[0m\u001b[0mh\u001b[0m\u001b[1;33m,\u001b[0m\u001b[1;36m5\u001b[0m\u001b[1;33m)\u001b[0m\u001b[1;33m\u001b[0m\u001b[1;33m\u001b[0m\u001b[0m\n\u001b[0m\u001b[0;32m      9\u001b[0m \u001b[0mprint\u001b[0m\u001b[1;33m(\u001b[0m\u001b[0mv\u001b[0m\u001b[1;33m)\u001b[0m\u001b[1;33m\u001b[0m\u001b[1;33m\u001b[0m\u001b[0m\n",
      "\u001b[1;32m<ipython-input-11-6f269bc15c81>\u001b[0m in \u001b[0;36mrevlookup\u001b[1;34m(d, v)\u001b[0m\n\u001b[0;32m      4\u001b[0m         \u001b[1;32mif\u001b[0m \u001b[0md\u001b[0m\u001b[1;33m[\u001b[0m\u001b[0mk\u001b[0m\u001b[1;33m]\u001b[0m\u001b[1;33m==\u001b[0m\u001b[0mv\u001b[0m\u001b[1;33m:\u001b[0m\u001b[1;33m\u001b[0m\u001b[1;33m\u001b[0m\u001b[0m\n\u001b[0;32m      5\u001b[0m             \u001b[1;32mreturn\u001b[0m \u001b[0mk\u001b[0m\u001b[1;33m\u001b[0m\u001b[1;33m\u001b[0m\u001b[0m\n\u001b[1;32m----> 6\u001b[1;33m     \u001b[1;32mraise\u001b[0m \u001b[0mLookupError\u001b[0m\u001b[1;33m(\u001b[0m\u001b[1;34m\"The key for the supplied value noyt found\"\u001b[0m\u001b[1;33m)\u001b[0m\u001b[1;31m#Used to throw exception\u001b[0m\u001b[1;33m\u001b[0m\u001b[1;33m\u001b[0m\u001b[0m\n\u001b[0m\u001b[0;32m      7\u001b[0m \u001b[0mh\u001b[0m \u001b[1;33m=\u001b[0m \u001b[0mmakeHistogram\u001b[0m\u001b[1;33m(\u001b[0m\u001b[1;34m\"Nirmal Narasimha\"\u001b[0m\u001b[1;33m)\u001b[0m\u001b[1;33m\u001b[0m\u001b[1;33m\u001b[0m\u001b[0m\n\u001b[0;32m      8\u001b[0m \u001b[0mv\u001b[0m \u001b[1;33m=\u001b[0m \u001b[0mrevlookup\u001b[0m\u001b[1;33m(\u001b[0m\u001b[0mh\u001b[0m\u001b[1;33m,\u001b[0m\u001b[1;36m5\u001b[0m\u001b[1;33m)\u001b[0m\u001b[1;33m\u001b[0m\u001b[1;33m\u001b[0m\u001b[0m\n",
      "\u001b[1;31mLookupError\u001b[0m: The key for the supplied value noyt found"
     ]
    }
   ],
   "source": [
    "#REVERSE LOOKUP searches a key given a value\n",
    "def revlookup(d,v):\n",
    "    for k in d:\n",
    "        if d[k]==v:\n",
    "            return k\n",
    "    raise LookupError(\"The key for the supplied value not found\")#Used to throw exception\n",
    "h = makeHistogram(\"Nirmal Narasimha\")\n",
    "v = revlookup(h,5)\n",
    "print(v)"
   ]
  },
  {
   "cell_type": "code",
   "execution_count": 12,
   "metadata": {},
   "outputs": [
    {
     "name": "stdout",
     "output_type": "stream",
     "text": [
      "{'Nirmal': 1, 'GOtham': 2, 'Arkham': 3}\n"
     ]
    }
   ],
   "source": [
    "#INVERT DICTIONARY\n",
    "def invert(d):\n",
    "    t = dict()\n",
    "    for k in d:\n",
    "        val = d[k]\n",
    "        if val not in t:\n",
    "            t[val] = k\n",
    "        else:\n",
    "            t[val].append(k)\n",
    "    return t\n",
    "a = {\n",
    "    1:\"Nirmal\",\n",
    "    2:\"GOtham\",\n",
    "    3:\"Arkham\"\n",
    "}\n",
    "print(invert(a))"
   ]
  },
  {
   "cell_type": "code",
   "execution_count": 13,
   "metadata": {},
   "outputs": [
    {
     "name": "stdout",
     "output_type": "stream",
     "text": [
      "False\n"
     ]
    }
   ],
   "source": [
    "flag = False\n",
    "def fun():\n",
    "    flag = True\n",
    "fun()\n",
    "print(flag)#VALUE DOESNT CHANGE COZ FUN Creates a local variable and doesnt change local."
   ]
  },
  {
   "cell_type": "code",
   "execution_count": 15,
   "metadata": {},
   "outputs": [
    {
     "name": "stdout",
     "output_type": "stream",
     "text": [
      "True\n"
     ]
    }
   ],
   "source": [
    "flag = False\n",
    "def fun():\n",
    "    global flag\n",
    "    flag = True\n",
    "fun()\n",
    "print(flag)#PRINTS true coz global keyword refers to global variable flag."
   ]
  },
  {
   "cell_type": "code",
   "execution_count": 38,
   "metadata": {},
   "outputs": [
    {
     "name": "stdout",
     "output_type": "stream",
     "text": [
      "1043228991760043347210890372985818906605196329708252845141385761277667969875898126158444923222294209240435826462840613016129522686703430390578370879529283216874292811036577660198236004386947922100033071152306835191145188815511638162742959546076396971814630324763383058684665773331452994604919781534377471801372351057466576367908325332546703046956600603779994303924936918187306005851718981044560906654651895515411173592988999223040165931761442922265329684587111090688981231489017045653657659370819125270678909917342857885668337358511040050026325\n"
     ]
    }
   ],
   "source": [
    "known= { 0:0,1:1}\n",
    "\n",
    "def fibonacci(n):\n",
    "    \n",
    "    if n in known:\n",
    "    \n",
    "        return known[n]\n",
    "    else:\n",
    "        res = fibonacci(n-1)+fibonacci(n-2)\n",
    "        known[n] = res\n",
    "        return res\n",
    "print(fibonacci(2600))"
   ]
  },
  {
   "cell_type": "code",
   "execution_count": 36,
   "metadata": {},
   "outputs": [
    {
     "name": "stdout",
     "output_type": "stream",
     "text": [
      "102334155\n"
     ]
    }
   ],
   "source": [
    "def fib(n):\n",
    "    if n==0:\n",
    "        return 0\n",
    "    elif n==1:\n",
    "        return 1\n",
    "    else:\n",
    "        return fib(n-1)+fib(n-2)\n",
    "print(fib(40))"
   ]
  },
  {
   "cell_type": "code",
   "execution_count": 4,
   "metadata": {},
   "outputs": [
    {
     "name": "stdout",
     "output_type": "stream",
     "text": [
      "True\n"
     ]
    }
   ],
   "source": [
    "f = open(\"C:/Users/Nirmal Narasimha/Desktop/Python snippets/words.txt\")\n",
    "mydic = dict()\n",
    "count = 0\n",
    "for word in f:\n",
    "    word = word.strip()\n",
    "    mydic[word]=count\n",
    "    count+=1\n",
    "print('aahing' in mydic)\n",
    "    "
   ]
  },
  {
   "cell_type": "code",
   "execution_count": 10,
   "metadata": {},
   "outputs": [
    {
     "name": "stdout",
     "output_type": "stream",
     "text": [
      "Key is 1 Value is  ['a']\n",
      "Key is 2 Value is  ['b']\n",
      "Key is 3 Value is  ['c']\n",
      "Key is 4 Value is  ['d']\n"
     ]
    }
   ],
   "source": [
    "#invert\n",
    "def invert(d):\n",
    "    inverse = {}\n",
    "    for k in d:\n",
    "        val = d[k]\n",
    "        inverse.setdefault(val,[]).append(k)\n",
    "    return inverse\n",
    "myd = {\"a\":1,\"b\":2,\"c\":3,\"d\":4}\n",
    "myid = invert(myd)\n",
    "for k in myid:\n",
    "    print(\"Key is\",str(k)+\" Value is \",myid[k])\n",
    "        "
   ]
  },
  {
   "cell_type": "code",
   "execution_count": 36,
   "metadata": {},
   "outputs": [
    {
     "name": "stdout",
     "output_type": "stream",
     "text": [
      "False\n"
     ]
    }
   ],
   "source": [
    "def has_duplicatees(t):\n",
    "    t.sort()\n",
    "    mydict = {}\n",
    "    for v in t:\n",
    "        if v not in mydict:\n",
    "            mydict[v] = True\n",
    "        else:\n",
    "            return True\n",
    "    return False\n",
    "myL = [1,2,3,4,5]\n",
    "print(has_duplicatees(myL))\n",
    "        "
   ]
  },
  {
   "cell_type": "code",
   "execution_count": 4,
   "metadata": {},
   "outputs": [
    {
     "name": "stdout",
     "output_type": "stream",
     "text": [
      "a\n",
      "('A', 'b', 'c')\n",
      "True\n"
     ]
    }
   ],
   "source": [
    "#TUPLES\n",
    "t = 'a',\n",
    "type(t)\n",
    "t1 = ('a','b','c')\n",
    "print(t1[0])\n",
    "t2 = tuple(\"A\")+t1[1:]\n",
    "print(t2)\n",
    "print((0,1,2000)<(0,2,3))"
   ]
  },
  {
   "cell_type": "code",
   "execution_count": 7,
   "metadata": {},
   "outputs": [
    {
     "name": "stdout",
     "output_type": "stream",
     "text": [
      "(4, 5, 6) (1, 2, 3)\n",
      "narasimhanirmal gmail.com\n"
     ]
    }
   ],
   "source": [
    "#TUPLE ASSIGNMENT\n",
    "a = 1,2,3\n",
    "b = 4,5,6\n",
    "a , b = b, a\n",
    "print(a,b)\n",
    "str = 'narasimhanirmal@gmail.com'\n",
    "c, d=str.split('@')\n",
    "print(c,d)"
   ]
  },
  {
   "cell_type": "code",
   "execution_count": 8,
   "metadata": {},
   "outputs": [
    {
     "name": "stdout",
     "output_type": "stream",
     "text": [
      "(3, 1)\n"
     ]
    }
   ],
   "source": [
    "#DIVMOD RETURNS QUOTIENT AND REMAINDER as a tuple\n",
    "t = divmod(10,3)\n",
    "print(t)\n"
   ]
  },
  {
   "cell_type": "code",
   "execution_count": 9,
   "metadata": {},
   "outputs": [
    {
     "data": {
      "text/plain": [
       "(1, 5)"
      ]
     },
     "execution_count": 9,
     "metadata": {},
     "output_type": "execute_result"
    }
   ],
   "source": [
    "def min_max(*args):\n",
    "    return min(args),max(args)\n",
    "min_max(1,2,3,4,5)"
   ]
  },
  {
   "cell_type": "code",
   "execution_count": 12,
   "metadata": {},
   "outputs": [
    {
     "name": "stdout",
     "output_type": "stream",
     "text": [
      "15\n"
     ]
    }
   ],
   "source": [
    "def sum_all(*args):\n",
    "    return sum(args)\n",
    "print(sum_all(1,2,3,4,5))"
   ]
  },
  {
   "cell_type": "code",
   "execution_count": 16,
   "metadata": {},
   "outputs": [
    {
     "name": "stdout",
     "output_type": "stream",
     "text": [
      "(0, 'a')\n",
      "(1, 'b')\n",
      "(2, 'c')\n",
      "(3, 'd')\n"
     ]
    }
   ],
   "source": [
    "#ZIP object combines 1 element from each objects\n",
    "t = [0,1,2,3]\n",
    "str = 'abcd'\n",
    "z = zip(t,str)\n",
    "for i in z:\n",
    "    print(i)\n"
   ]
  },
  {
   "cell_type": "code",
   "execution_count": 18,
   "metadata": {},
   "outputs": [
    {
     "data": {
      "text/plain": [
       "False"
      ]
     },
     "execution_count": 18,
     "metadata": {},
     "output_type": "execute_result"
    }
   ],
   "source": [
    "def has_match(t1,t2):\n",
    "    for x,y in zip(t1,t2):\n",
    "        if x==y:\n",
    "            return True\n",
    "    return False\n",
    "has_match((0,1,2,3),(5,6,7,8))"
   ]
  },
  {
   "cell_type": "code",
   "execution_count": 20,
   "metadata": {},
   "outputs": [
    {
     "name": "stdout",
     "output_type": "stream",
     "text": [
      "[(1, 'N'), (1, 'i'), (2, 'r'), (2, 'm'), (3, 'a'), (3, 'l'), (4, 'n'), (4, 'a')]\n",
      "N 1\n",
      "i 1\n",
      "r 2\n",
      "m 2\n",
      "a 3\n",
      "l 3\n",
      "n 4\n",
      "a 4\n"
     ]
    }
   ],
   "source": [
    "t = [1,1,2,2,3,3,4,4]\n",
    "r = \"Nirmalnara\"\n",
    "z = zip(t,r)\n",
    "l = list(z)\n",
    "print(l)\n",
    "for x,y in l:\n",
    "    print(y,x)"
   ]
  },
  {
   "cell_type": "code",
   "execution_count": 21,
   "metadata": {},
   "outputs": [
    {
     "name": "stdout",
     "output_type": "stream",
     "text": [
      "0 n\n",
      "1 i\n",
      "2 r\n",
      "3 m\n",
      "4 a\n",
      "5 l\n"
     ]
    }
   ],
   "source": [
    "#ENUMERATE creates pairs with indexes starting from 0\n",
    "for key,val in enumerate('nirmal'):\n",
    "    print(key,val)"
   ]
  },
  {
   "cell_type": "code",
   "execution_count": 27,
   "metadata": {},
   "outputs": [
    {
     "name": "stdout",
     "output_type": "stream",
     "text": [
      "dict_items([(0, 'a'), (1, 'b'), (2, 'c')])\n",
      "{0: 'a', 1: 'b', 2: 'c'}\n",
      "{'a': 0, 'b': 1, 'c': 2, 'd': 3}\n"
     ]
    }
   ],
   "source": [
    "#DICTIONARY AND TUPLES\n",
    "d = {0:'a',1:'b',2:'c'}\n",
    "l = d.items()\n",
    "print(l)\n",
    "myL = [(0,'a'),(1,'b'),(2,'c')]\n",
    "myDict = dict(myL)\n",
    "print(myDict)\n",
    "zD = dict(zip('abcd',range(4)))\n",
    "print(zD)"
   ]
  },
  {
   "cell_type": "code",
   "execution_count": 30,
   "metadata": {},
   "outputs": [
    {
     "name": "stdout",
     "output_type": "stream",
     "text": [
      "john Mayer 994572\n",
      "John legend 9243821\n",
      "nirmal narasimha 9876\n"
     ]
    }
   ],
   "source": [
    "telephone_directory = {(\"john\",\"Mayer\"):994572,(\"John\",\"legend\"):9243821,(\"nirmal\",\"narasimha\"):9876}\n",
    "for fname,lname in telephone_directory:\n",
    "    print(fname+\" \"+lname,telephone_directory[fname,lname])"
   ]
  },
  {
   "cell_type": "code",
   "execution_count": 51,
   "metadata": {},
   "outputs": [
    {
     "data": {
      "text/plain": [
       "[(4, 'n'), (2, 'a'), (1, 'i')]"
      ]
     },
     "execution_count": 51,
     "metadata": {},
     "output_type": "execute_result"
    }
   ],
   "source": [
    "\n",
    "def make_dic(s):\n",
    "    dic = dict()\n",
    "    for i in s:\n",
    "        dic[i] = dic.get(i,0)+1\n",
    "    return dic\n",
    "def most_frequent(s):\n",
    "    s = s.lower()\n",
    "    myDic = make_dic(s)\n",
    "    t=list()\n",
    "    for key,value in myDic.items():\n",
    "        t.append((value,key))\n",
    "    t.sort(reverse=True)\n",
    "    return t\n",
    "\n",
    "most_frequent(\"Ninnnaa\")"
   ]
  },
  {
   "cell_type": "code",
   "execution_count": 104,
   "metadata": {},
   "outputs": [
    {
     "name": "stdout",
     "output_type": "stream",
     "text": [
      "True\n"
     ]
    }
   ],
   "source": [
    "def make_list(s):\n",
    "    s = s.lower().strip()\n",
    "    t = list(s)\n",
    "    t.sort()\n",
    "    return t\n",
    "def anagram_check(*s):\n",
    "    d = {}\n",
    "    for word in s:\n",
    "        l = tuple(make_list(word))\n",
    "        if l not in d:\n",
    "            d[l] = [word]\n",
    "        else:\n",
    "            d[l].append(word)\n",
    "    return d\n",
    "def is_anagram(*t):\n",
    "    d = dict(anagram_check(*t))\n",
    "    l = list(t)\n",
    "    word1 , word2 = t\n",
    "    for k in d:\n",
    "        if d[k]==l: \n",
    "            return True\n",
    "    return False\n",
    "            \n",
    "print(is_anagram(\"narasimha\", \"ahmisaran\"))\n",
    "    "
   ]
  },
  {
   "cell_type": "code",
   "execution_count": 4,
   "metadata": {},
   "outputs": [
    {
     "name": "stdout",
     "output_type": "stream",
     "text": [
      "0.5191343891627871 4\n",
      "0.15791484075114037 2\n",
      "0.8124519462937014 3\n",
      "0.09118944334690826 4\n",
      "0.48821630708235053 1\n",
      "0.3538915584889577 3\n",
      "0.5290119436546643 5\n",
      "0.7730831137865656 5\n",
      "0.15744520910154092 2\n",
      "0.38283563134289744 3\n",
      "1\n"
     ]
    }
   ],
   "source": [
    "import random\n",
    "for i in range(10):\n",
    "    x = random.random()\n",
    "    y = random.randint(1,5)\n",
    "    print(x,y)\n",
    "t = [1,2,3,4,5]\n",
    "b = random.choice(t)\n",
    "print(b)"
   ]
  },
  {
   "cell_type": "code",
   "execution_count": 10,
   "metadata": {},
   "outputs": [
    {
     "name": "stdout",
     "output_type": "stream",
     "text": [
      "3\n"
     ]
    },
    {
     "data": {
      "text/plain": [
       "[(2, 'a'), (1, 'c'), (1, 'b')]"
      ]
     },
     "execution_count": 10,
     "metadata": {},
     "output_type": "execute_result"
    }
   ],
   "source": [
    "import random\n",
    "import string\n",
    "def make_hist(t):\n",
    "    d = dict()\n",
    "    for i in t:\n",
    "        if i not in d:\n",
    "            d[i]=1\n",
    "        else:\n",
    "            d[i]+=1\n",
    "    return d\n",
    "def total_freq(d):\n",
    "    d = make_hist(d)\n",
    "    return sum(d.values())\n",
    "def most_common(d):\n",
    "    d = make_hist(d)\n",
    "    t = []\n",
    "    for key,value in d.items():\n",
    "        t.append((value,key))\n",
    "    t.sort(reverse=True)\n",
    "    return t\n",
    "\n",
    "    \n",
    "print(total_freq(['a','a','b']))\n",
    "most_common(['a','a','b','c'])"
   ]
  },
  {
   "cell_type": "code",
   "execution_count": 11,
   "metadata": {},
   "outputs": [
    {
     "data": {
      "text/plain": [
       "'hiyya'"
      ]
     },
     "execution_count": 11,
     "metadata": {},
     "output_type": "execute_result"
    }
   ],
   "source": [
    "import random\n",
    "def random_word(d):\n",
    "    t = list()\n",
    "    for key,freq in d.items():\n",
    "        t.extend([key]*freq)\n",
    "    return random.choice(t)\n",
    "random_word({\"hiyya\":4,\"pai\":2,\"baaal\":2})"
   ]
  },
  {
   "cell_type": "code",
   "execution_count": 8,
   "metadata": {},
   "outputs": [
    {
     "name": "stdout",
     "output_type": "stream",
     "text": [
      "[(8, 'the'), (4, 'that'), (4, 'die'), (4, 'and'), (3, 'like'), (3, 'To'), (2, 'with'), (2, 'while'), (2, 'waves'), (2, 'to'), (2, 'sky'), (2, 'sea'), (2, 'at'), (2, 'a'), (1, 'yours'), (1, 'young'), (1, 'when'), (1, 'weeping'), (1, 'we'), (1, 'want'), (1, 'voices'), (1, 'very'), (1, 'time'), (1, 'though'), (1, 'this'), (1, 'than'), (1, 'sun'), (1, 'still'), (1, 'soul'), (1, 'something'), (1, 'slowly'), (1, 'she'), (1, 'seems'), (1, 'says'), (1, 'sad'), (1, 'retires'), (1, 'removes'), (1, 'prayers'), (1, 'our'), (1, 'once'), (1, 'of'), (1, 'not'), (1, 'nor'), (1, 'network'), (1, 'my'), (1, 'more'), (1, 'moment'), (1, 'majestic'), (1, 'luminous'), (1, 'light'), (1, 'life'), (1, 'lies'), (1, 'last'), (1, 'know'), (1, 'its'), (1, 'high'), (1, 'hearts'), (1, 'hear'), (1, 'green'), (1, 'golden'), (1, 'gentle'), (1, 'from'), (1, 'fly'), (1, 'fleeting'), (1, 'fades'), (1, 'facing'), (1, 'expires'), (1, 'dream'), (1, 'declines'), (1, 'day'), (1, 'crown'), (1, 'can'), (1, 'bird'), (1, 'before'), (1, 'beating'), (1, 'be'), (1, 'as'), (1, 'any'), (1, 'alone'), (1, 'agony'), (1, \"I'm\"), (1, 'I')]\n"
     ]
    }
   ],
   "source": [
    "import matplotlib.pyplot as plt\n",
    "import string\n",
    "import math\n",
    "def make_dic(l):\n",
    "    d = dict()\n",
    "    for word in t:\n",
    "        d[word]=d.get(word,0)+1\n",
    "    return d\n",
    "def do_shot(d):\n",
    "    l = list()\n",
    "    for item in d:\n",
    "        key = item\n",
    "        value = d[key]\n",
    "        l.append((value,key))\n",
    "    return l\n",
    "\n",
    "def myplot(t):\n",
    "    finalList = []\n",
    "    for i in range(len(t)-1):\n",
    "        myTup = t[i]\n",
    "        frequency =math.log( myTup[0])\n",
    "        rank = math.log(i+1)\n",
    "        finalList.append((rank,frequency))\n",
    "    return finalList\n",
    "        \n",
    "    \n",
    "        \n",
    "\n",
    "fp = open('C:/Users/Nirmal Narasimha/Desktop/Python snippets/poem.txt')\n",
    "t = []\n",
    "for line in fp:\n",
    "    word = line.split()\n",
    "    for i in word:\n",
    "        i = i.strip(string.punctuation+string.whitespace)\n",
    "        t.append(i)\n",
    "\n",
    "    \n",
    "d=make_dic(t)\n",
    "myL = do_shot(d)\n",
    "myL.sort(reverse=True)\n",
    "print(myL)\n",
    "l = myplot(myL)\n",
    "plt.plot(l)\n",
    "    \n",
    "    "
   ]
  },
  {
   "cell_type": "code",
   "execution_count": 15,
   "metadata": {},
   "outputs": [
    {
     "data": {
      "image/png": "[encoded data removed]",
      "text/plain": [
       "<Figure size 432x288 with 1 Axes>"
      ]
     },
     "metadata": {
      "needs_background": "light"
     },
     "output_type": "display_data"
    }
   ],
   "source": [
    "import matplotlib.pyplot as plt\n",
    "import string\n",
    "import math\n",
    "def make_dic(l):\n",
    "    d = dict()\n",
    "    for word in t:\n",
    "        d[word]=d.get(word,0)+1\n",
    "    return d\n",
    "def do_shot(d):\n",
    "    l = list()\n",
    "    for item in d:\n",
    "        key = item\n",
    "        value = d[key]\n",
    "        l.append((value,key))\n",
    "    return l\n",
    "\n",
    "def myplot(t):\n",
    "    finalList = []\n",
    "    for i in range(len(t)-1):\n",
    "        myTup = t[i]\n",
    "        frequency =math.log( myTup[0])\n",
    "        rank = math.log(i+1)\n",
    "        finalList.append([rank,frequency])\n",
    "    return finalList\n",
    "        \n",
    "    \n",
    "        \n",
    "\n",
    "fp = open('C:/Users/Nirmal Narasimha/Desktop/Python snippets/poem.txt')\n",
    "t = []\n",
    "for line in fp:\n",
    "    word = line.split()\n",
    "    for i in word:\n",
    "        i = i.strip(string.punctuation+string.whitespace)\n",
    "        t.append(i)\n",
    "\n",
    "    \n",
    "d=make_dic(t)\n",
    "myL = do_shot(d)\n",
    "myL.sort(reverse=True)\n",
    "l = myplot(myL)\n",
    "x,y = zip(*l)\n",
    "plt.plot(x, y,'r-',linewidth=3)\n",
    "plt.xlabel('rank')\n",
    "plt.ylabel('frequency')\n",
    "plt.show()\n",
    "    "
   ]
  },
  {
   "cell_type": "code",
   "execution_count": 3,
   "metadata": {},
   "outputs": [],
   "source": [
    "fout = open(\"first.txt\",'w')\n",
    "line1=\"I am Nirmal\"\n",
    "fout.write(line1)\n",
    "fout.close()"
   ]
  },
  {
   "cell_type": "code",
   "execution_count": 4,
   "metadata": {},
   "outputs": [
    {
     "name": "stdout",
     "output_type": "stream",
     "text": [
      "I had 5 number of cats and 0.5 rupees \n"
     ]
    }
   ],
   "source": [
    "line2 = \"I had %d number of cats and %g rupees \"%(5,0.5)\n",
    "print(line2)"
   ]
  },
  {
   "cell_type": "code",
   "execution_count": 10,
   "metadata": {},
   "outputs": [
    {
     "name": "stdout",
     "output_type": "stream",
     "text": [
      "C:\\Users\\Nirmal Narasimha\\Desktop\n",
      "C:\\Users\\Nirmal Narasimha\\Desktop\\first.txt\n",
      "True\n",
      "False\n",
      "True\n",
      "['.ipynb_checkpoints', '5Sem', '6Sem', '6th open elective.docx', 'AndrewNg ML', 'Atom.lnk', 'Bigdata-3.docx', 'BIGDATA3.pdf', 'BitTorrent.lnk', 'CHATCORD', 'desktop.ini', 'digraph Tree.png.docx', 'Discord.lnk', 'Documents', 'Eclipse IDE for Java Developers - 2020-09.lnk', 'Export', 'FinalYrProject', 'FinanceChrisbenjamin', 'first.txt', 'GitHub Desktop.lnk', 'Hyper.lnk', 'Instagramandroid.pem - Shortcut.lnk', 'JavaPgms', 'Keil uVision5.LNK', 'Microsoft Teams.lnk', 'MinGW Installer.lnk', 'music-recommender.dot', 'nirmalbp.xlsx', 'NptelCbill.pdf', 'nptelnonconventional.pdf', 'Postman.lnk', 'proj.pdf', 'Python snippets', 'Python snippets.ipynb', 'Slack.lnk', 'SonyLIV.lnk', 'Tableau', 'Telegram.lnk', 'Thonny.lnk', 'varsity', 'vgsales - Shortcut.lnk', 'WeatherApp', 'WhatsApp.lnk', 'WinSCP.lnk', 'Zoom.lnk']\n"
     ]
    }
   ],
   "source": [
    "import os\n",
    "cwd=os.getcwd()\n",
    "print(cwd)\n",
    "absol=os.path.abspath(\"first.txt\")\n",
    "print(absol)\n",
    "boola=os.path.exists(\"first.txt\")\n",
    "print(boola)\n",
    "isAdir=os.path.isdir(\"first.txt\")\n",
    "print(isAdir)\n",
    "isAfile=os.path.isfile(\"first.txt\")\n",
    "print(isAfile)\n",
    "print(os.listdir(cwd))\n"
   ]
  },
  {
   "cell_type": "code",
   "execution_count": 11,
   "metadata": {},
   "outputs": [
    {
     "name": "stdout",
     "output_type": "stream",
     "text": [
      "Its an error\n"
     ]
    }
   ],
   "source": [
    "#try and except\n",
    "try:\n",
    "    fin=open(\"badfile\")\n",
    "except:\n",
    "    print(\"Its an error\")"
   ]
  },
  {
   "cell_type": "code",
   "execution_count": 13,
   "metadata": {},
   "outputs": [
    {
     "name": "stdout",
     "output_type": "stream",
     "text": [
      "b'this is an ss'\n"
     ]
    }
   ],
   "source": [
    "#Databse objects\n",
    "import dbm\n",
    "db = dbm.open('captions','c')\n",
    "db[\"photo.png\"] = \"this is an ss\"\n",
    "print(db[\"photo.png\"])\n",
    "db.close()"
   ]
  },
  {
   "cell_type": "code",
   "execution_count": 14,
   "metadata": {},
   "outputs": [
    {
     "name": "stdout",
     "output_type": "stream",
     "text": [
      "[1, 2, 3, 4, 5]\n"
     ]
    }
   ],
   "source": [
    "import pickle\n",
    "t = [1,2,3,4,5]\n",
    "myD = pickle.dumps(t)\n",
    "t1 = pickle.loads(myD)\n",
    "print(t1)"
   ]
  },
  {
   "cell_type": "code",
   "execution_count": 18,
   "metadata": {},
   "outputs": [
    {
     "name": "stdout",
     "output_type": "stream",
     "text": [
      "1\n"
     ]
    }
   ],
   "source": [
    "cmd=\"ls -l\"\n",
    "fp = os.popen(cmd)\n",
    "res = fp.read()\n",
    "stat=fp.close()\n",
    "print(stat)"
   ]
  },
  {
   "cell_type": "code",
   "execution_count": 35,
   "metadata": {},
   "outputs": [
    {
     "data": {
      "text/plain": [
       "3509"
      ]
     },
     "execution_count": 35,
     "metadata": {},
     "output_type": "execute_result"
    }
   ],
   "source": [
    "def line_count(filename):\n",
    "    count=0\n",
    "    for line in open(filename):\n",
    "        count+=1\n",
    "    return count\n",
    "line_count(\"Python snippets.ipynb\")\n",
    "        "
   ]
  },
  {
   "cell_type": "code",
   "execution_count": 66,
   "metadata": {},
   "outputs": [],
   "source": [
    "import os\n",
    "import subprocess as sp\n",
    "def computechecksum(filename):\n",
    "    cmd = 'FCIV -md5 '+filename\n",
    "    fp = os.popen(cmd)\n",
    "    res=fp.read()\n",
    "    stat=fp.close()\n",
    "    assert stat == 1\n",
    "    return res,stat\n",
    "    \n",
    "    \n",
    "def check(direc):\n",
    "    names = list()\n",
    "    for name in os.listdir(direc):\n",
    "        path = os.path.join(direc,name)\n",
    "        if os.path.isfile(path):\n",
    "            names.append(path)\n",
    "        else:\n",
    "            names.extend(check(path))\n",
    "    return names \n",
    "def clarify(dirname,suffix):\n",
    "    names = check(dirname)\n",
    "    d=dict()\n",
    "    for name in names:\n",
    "        if name.endswith(suffix):\n",
    "            res,stat = computechecksum(name)\n",
    "            print(res)\n",
    "            checksum = res.split()\n",
    "            print(checksum)\n",
    "            if checksum in d:\n",
    "                d[checksum].append(name)\n",
    "            else:\n",
    "                d[checksum]=[name]\n",
    "    print(d)\n",
    "            \n",
    "print(clarify(\"C:/Users/Nirmal Narasimha/Mymusic\",\".mp3\"))\n",
    "            \n",
    "    \n"
   ]
  },
  {
   "cell_type": "code",
   "execution_count": 5,
   "metadata": {},
   "outputs": [
    {
     "name": "stdout",
     "output_type": "stream",
     "text": [
      "2.23606797749979 0.0\n"
     ]
    }
   ],
   "source": [
    "#OBJECT ORIENTED PROGRAMMING\n",
    "\n",
    "#DIST BTW PTS\n",
    "import math\n",
    "class Point:\n",
    "    \"\"\"class point\"\"\"\n",
    "def dist(p1,p2):\n",
    "    dist = math.sqrt((p2.x-p1.x)**2 + (p2.y-p1.y)**2)\n",
    "    return dist\n",
    "point1=Point()\n",
    "point2=Point()\n",
    "point1.x=3.0\n",
    "point1.y=4.0\n",
    "point2.x=5.0\n",
    "point2.y=5.0\n",
    "class Rectangle:\n",
    "    \"\"\"gives width,height and bottom left corner\"\"\"\n",
    "box=Rectangle()\n",
    "box.width=100.0\n",
    "box.height=100.0\n",
    "box.corner=Point()\n",
    "box.corner.x=0.0\n",
    "box.corner.y=0.0\n",
    "print(dist(point1,point2),box.corner.x)"
   ]
  },
  {
   "cell_type": "code",
   "execution_count": 9,
   "metadata": {},
   "outputs": [
    {
     "name": "stdout",
     "output_type": "stream",
     "text": [
      "10.0\n"
     ]
    }
   ],
   "source": [
    "def moveRect(rect,dx,dy):\n",
    "    rect.corner.x+=dx\n",
    "    rect.corner.y+=dy\n",
    "    return rect\n",
    "box1 = Rectangle()\n",
    "box1.width=100.0\n",
    "box1.height=100.0\n",
    "box1.corner=Point()\n",
    "box1.corner.x=5.0\n",
    "box1.corner.y=5.0\n",
    "print(moveRect(box1,5.0,5.0).corner.x)\n"
   ]
  },
  {
   "cell_type": "code",
   "execution_count": 11,
   "metadata": {},
   "outputs": [
    {
     "name": "stdout",
     "output_type": "stream",
     "text": [
      "5.0 5.0\n",
      "0.0 0.0\n"
     ]
    }
   ],
   "source": [
    "##Using copy and deep copy to make copies and not alias\n",
    "import copy\n",
    "def movemyRect(rect,dx,dy):\n",
    "    rect1=copy.deepcopy(rect)#If we use copy.copy() upper objects change but embedded ones doesnt\n",
    "    rect1.corner.x+=dx\n",
    "    rect1.corner.y+=dy\n",
    "    return rect1\n",
    "myRectangle = Rectangle()\n",
    "myRectangle.width=200.0\n",
    "myRectangle.height=200.0\n",
    "myRectangle.corner = Point()\n",
    "myRectangle.corner.x=0.0\n",
    "myRectangle.corner.y=0.0\n",
    "my2Rectangle=movemyRect(myRectangle,5.0,5.0)\n",
    "\n",
    "print(my2Rectangle.corner.x,my2Rectangle.corner.y)\n",
    "print(myRectangle.corner.x,myRectangle.corner.y)\n"
   ]
  },
  {
   "cell_type": "code",
   "execution_count": 12,
   "metadata": {},
   "outputs": [
    {
     "name": "stdout",
     "output_type": "stream",
     "text": [
      "True\n"
     ]
    }
   ],
   "source": [
    "print(isinstance(myRectangle,Rectangle))"
   ]
  },
  {
   "cell_type": "code",
   "execution_count": 13,
   "metadata": {},
   "outputs": [
    {
     "name": "stdout",
     "output_type": "stream",
     "text": [
      "True\n"
     ]
    }
   ],
   "source": [
    "print(hasattr(myRectangle,'width'))"
   ]
  },
  {
   "cell_type": "code",
   "execution_count": 3,
   "metadata": {},
   "outputs": [
    {
     "name": "stdout",
     "output_type": "stream",
     "text": [
      "The time is 01:30:30\n"
     ]
    }
   ],
   "source": [
    "#CLASSES AND FUNCTIONS\n",
    "class Time:\n",
    "    \"\"\"Attributes hr,min,sec\"\"\"\n",
    "def print_Time(t):\n",
    "    print(\"The time is %.2d:%.2d:%.2d\"%(time.hour,time.min,time.second))\n",
    "time = Time()\n",
    "time.hour=1\n",
    "time.min = 30\n",
    "time.second = 30\n",
    "print_Time(time)"
   ]
  },
  {
   "cell_type": "code",
   "execution_count": 13,
   "metadata": {},
   "outputs": [
    {
     "name": "stdout",
     "output_type": "stream",
     "text": [
      "1 38 50\n"
     ]
    }
   ],
   "source": [
    "import copy\n",
    "def add_sec(t,seconds):\n",
    "    myT = Time()\n",
    "    myT = copy.deepcopy(t)\n",
    "    while seconds>=60:\n",
    "        seconds-=60\n",
    "        myT.min+=1\n",
    "    myT.second = myT.second + seconds\n",
    "    if myT.second>=60:\n",
    "        myT.second-=60\n",
    "        myT.min+=1\n",
    "    while myT.min>=60:\n",
    "        myT.min-=60\n",
    "        myT.hour+=1\n",
    "    return myT\n",
    "time= Time()\n",
    "time.hour=1\n",
    "time.min = 30\n",
    "time.second = 30\n",
    "ans=add_sec(time,500)\n",
    "print(ans.hour,ans.min,ans.second)\n",
    "\n",
    "        "
   ]
  },
  {
   "cell_type": "code",
   "execution_count": 16,
   "metadata": {},
   "outputs": [
    {
     "name": "stdout",
     "output_type": "stream",
     "text": [
      "3 1 0\n"
     ]
    }
   ],
   "source": [
    "#ADDING TIME AS BASE 60\n",
    "def time_to_int(t):#CONVERTS EVERYTHING TO SECONDS\n",
    "    minutes = t.hour*60+t.min\n",
    "    seconds = minutes*60+t.second\n",
    "    return seconds\n",
    "def int_to_time(sec):\n",
    "    time = Time()\n",
    "    minutes,time.second = divmod(sec,60)\n",
    "    time.hour,time.min=divmod(minutes,60)\n",
    "    return time\n",
    "def add_time(t1,t2):\n",
    "    seconds = time_to_int(t1)+time_to_int(t2)\n",
    "    return int_to_time(seconds)\n",
    "t1=Time()\n",
    "t2=Time()\n",
    "t1.hour=1\n",
    "t1.min = 30\n",
    "t1.second = 30\n",
    "t2.hour=1\n",
    "t2.min = 30\n",
    "t2.second = 30\n",
    "final = add_time(t1,t2)\n",
    "print(final.hour,final.min,final.second)\n",
    "\n",
    "    "
   ]
  },
  {
   "cell_type": "code",
   "execution_count": 5,
   "metadata": {},
   "outputs": [
    {
     "name": "stdout",
     "output_type": "stream",
     "text": [
      "01:01:01\n",
      "09:40:30\n",
      "01:01:01\n",
      "10:41:31\n"
     ]
    }
   ],
   "source": [
    "#CLASSES AND METHODS:\n",
    "class Time:\n",
    "    def print_time(self):\n",
    "        print(\"%.2d:%.2d:%.2d\"%(self.hour,self.min,self.sec))\n",
    "    def __init__(self,hour=0,min=0,sec=0):#CONSTRUCTOR\n",
    "        self.hour=hour\n",
    "        self.min=min\n",
    "        self.sec=sec\n",
    "    def __str__(self):#METHOD TO PRINT OBJECTS\n",
    "        return '%.2d:%.2d:%.2d'%(self.hour,self.min,self.sec)\n",
    "    def __add__(self,other):#OPERATOR OVERLOADING\n",
    "        obj = Time()\n",
    "        obj.hour = self.hour+other.hour\n",
    "        obj.min = self.min+other.min\n",
    "        obj.sec = self.sec+other.sec\n",
    "        return obj\n",
    "time = Time()\n",
    "time.hour=1\n",
    "time.min=1\n",
    "time.sec=1\n",
    "time.print_time()\n",
    "tim2=Time(9,40,30)\n",
    "tim2.print_time()\n",
    "print(time)\n",
    "print(time+tim2)"
   ]
  },
  {
   "cell_type": "code",
   "execution_count": 10,
   "metadata": {},
   "outputs": [
    {
     "name": "stdout",
     "output_type": "stream",
     "text": [
      "(13, 14)\n"
     ]
    }
   ],
   "source": [
    "class Point:\n",
    "    def __init__(self,x=0,y=0):\n",
    "        self.x = x\n",
    "        self.y = y\n",
    "    def __str__(self):\n",
    "        return '%d,%d'%(self.x,self.y)\n",
    "    def __add__(self,other):\n",
    "        if isinstance(other,Point):\n",
    "            return self.add_Point(other)\n",
    "        else:\n",
    "            return self.add_tup(other)\n",
    "    def add_Point(self,other):\n",
    "        return Point(self.x+other.x, self.y+other.y)\n",
    "    def add_tup(self,other):\n",
    "        return self.x+other[0],self.y+other[1]\n",
    "    def __radd__(self,other):\n",
    "        return self.__add__(other)\n",
    "        \n",
    "p = Point(3,4)\n",
    "q = Point(2,3)\n",
    "print((10,10)+p)\n",
    "        "
   ]
  },
  {
   "cell_type": "code",
   "execution_count": 55,
   "metadata": {},
   "outputs": [
    {
     "name": "stdout",
     "output_type": "stream",
     "text": [
      "['baby', 'ROOS', '[\"(\\'lady\\', \\'hunter\\', \\'tiger\\')\"]']\n"
     ]
    }
   ],
   "source": [
    "class Kangaroo:\n",
    "    def __init__(self,contents=None):\n",
    "        if contents==None:\n",
    "            self.pouch_contents=[]\n",
    "        else:\n",
    "            self.pouch_contents=[contents]\n",
    "    def put_in_pouch(self,t):\n",
    "        self.pouch_contents.append(t)\n",
    "    def __str__(self):\n",
    "        t = list()\n",
    "        for obj in self.pouch_contents:\n",
    "            s = obj.__str__()\n",
    "            t.append(s)\n",
    "        return str(t)\n",
    "kanga = Kangaroo('baby')\n",
    "kanga.put_in_pouch('ROOS')\n",
    "roo = Kangaroo(('lady','hunter','tiger'))\n",
    "kanga.put_in_pouch(roo)\n",
    "print(kanga)\n",
    "        "
   ]
  },
  {
   "cell_type": "code",
   "execution_count": 1,
   "metadata": {},
   "outputs": [
    {
     "name": "stdout",
     "output_type": "stream",
     "text": [
      "Jack of Hearts\n",
      "Ace of Clubs\n",
      "2 of Clubs\n",
      "3 of Clubs\n",
      "4 of Clubs\n",
      "5 of Clubs\n",
      "6 of Clubs\n",
      "7 of Clubs\n",
      "8 of Clubs\n",
      "9 of Clubs\n",
      "10 of Clubs\n",
      "Jack of Clubs\n",
      "Queen of Clubs\n",
      "King of Clubs\n",
      "Ace of Diamonds\n",
      "2 of Diamonds\n",
      "3 of Diamonds\n",
      "4 of Diamonds\n",
      "5 of Diamonds\n",
      "6 of Diamonds\n",
      "7 of Diamonds\n",
      "8 of Diamonds\n",
      "9 of Diamonds\n",
      "10 of Diamonds\n",
      "Jack of Diamonds\n",
      "Queen of Diamonds\n",
      "King of Diamonds\n",
      "Ace of Hearts\n",
      "2 of Hearts\n",
      "3 of Hearts\n",
      "4 of Hearts\n",
      "5 of Hearts\n",
      "6 of Hearts\n",
      "7 of Hearts\n",
      "8 of Hearts\n",
      "9 of Hearts\n",
      "10 of Hearts\n",
      "Jack of Hearts\n",
      "Queen of Hearts\n",
      "King of Hearts\n",
      "Ace of Spades\n",
      "2 of Spades\n",
      "3 of Spades\n",
      "4 of Spades\n",
      "5 of Spades\n",
      "6 of Spades\n",
      "7 of Spades\n",
      "8 of Spades\n",
      "9 of Spades\n",
      "10 of Spades\n",
      "Jack of Spades\n",
      "Queen of Spades\n",
      "King of Spades\n"
     ]
    }
   ],
   "source": [
    "#INHERITANCE\n",
    "import random\n",
    "class card:\n",
    "    suit_names = ['Clubs', 'Diamonds', 'Hearts', 'Spades']\n",
    "    rank_names = [None, 'Ace', '2', '3', '4', '5', '6', '7', '8', '9', '10', 'Jack', 'Queen', 'King']\n",
    "    def __init__(self, suit = 0, rank=2):\n",
    "        self.suit = suit\n",
    "        self.rank = rank\n",
    "    def __str__(self):\n",
    "        return \"%s of %s\"%(card.rank_names[self.rank],card.suit_names[self.suit])\n",
    "    def __lt__(self, other):\n",
    "        t1 = self.suit, self.rank\n",
    "        t2 = other.suit, other.rank\n",
    "        return t1<t2\n",
    "class Deck:\n",
    "    def __init__(self):\n",
    "        self.cards = []\n",
    "        for suit in range(4):\n",
    "            for rank in range(1, 14):\n",
    "                cardi = card(suit, rank)\n",
    "                self.cards.append(cardi)\n",
    "    def __str__(self):\n",
    "        res = []\n",
    "        for cardi in self.cards:\n",
    "            res.append(str(cardi))\n",
    "        return '\\n'.join(res)\n",
    "    def pop_card(self):#REMOVE CARD FROM DECK\n",
    "        return self.cards.pop()\n",
    "    def add_card(self, card):#ADD CARD TO DECK\n",
    "        self.cards.append(card)\n",
    "    def shuffle(self):\n",
    "        random.shuffle(self.cards)\n",
    "    def move_cards(self,hand,num):\n",
    "        for i in range(num):\n",
    "            hand.add_card(self.pop_card())\n",
    "    #TODO-SORT function\n",
    "    \n",
    "    \n",
    "\n",
    "card1 = card(2,11)\n",
    "print(card1)\n",
    "deck = Deck()\n",
    "print(deck)"
   ]
  },
  {
   "cell_type": "code",
   "execution_count": 2,
   "metadata": {},
   "outputs": [
    {
     "name": "stdout",
     "output_type": "stream",
     "text": [
      "new hand\n"
     ]
    }
   ],
   "source": [
    "#INHERITANCE\n",
    "class Hand(Deck):\n",
    "    def __init__(self,label=''):\n",
    "        self.cards = []\n",
    "        self.label = label\n",
    "hand = Hand('new hand')\n",
    "print(hand.label)"
   ]
  },
  {
   "cell_type": "code",
   "execution_count": 9,
   "metadata": {},
   "outputs": [
    {
     "name": "stdin",
     "output_type": "stream",
     "text": [
      "Enter a number -1\n"
     ]
    },
    {
     "name": "stdout",
     "output_type": "stream",
     "text": [
      "nan\n"
     ]
    }
   ],
   "source": [
    "#CONCISE SNIPPETS\n",
    "import math\n",
    "x = int(input(\"Enter a number\"))\n",
    "y = math.log(x) if x > 0 else float('nan')\n",
    "print(y)"
   ]
  },
  {
   "cell_type": "code",
   "execution_count": null,
   "metadata": {},
   "outputs": [],
   "source": [
    "def factorial(n):\n",
    "    return 1 if n==0 else n*factorial(n-1)"
   ]
  },
  {
   "cell_type": "code",
   "execution_count": 10,
   "metadata": {},
   "outputs": [
    {
     "name": "stdout",
     "output_type": "stream",
     "text": [
      "['Ass', 'Bass', 'Cass']\n"
     ]
    }
   ],
   "source": [
    "#LIST COMPREHENSION\n",
    "def capitalize_all(t):\n",
    "    return [s.capitalize() for s in t]\n",
    "print(capitalize_all(['ass','bass','cass']))"
   ]
  },
  {
   "cell_type": "code",
   "execution_count": 15,
   "metadata": {},
   "outputs": [
    {
     "name": "stdout",
     "output_type": "stream",
     "text": [
      "<generator object <genexpr> at 0x000001D36CD84820>\n",
      "8\n",
      "27\n",
      "64\n"
     ]
    }
   ],
   "source": [
    "#GENERATOR EXPRESSIONS\n",
    "g = (x**3 for x in range(5))\n",
    "print(g)\n",
    "next(g)#GETS CUBE OPF 0\n",
    "next(g)#CUBE OF 1\n",
    "for i in g:#next leaves where it had left off so 3,4,5 cube given\n",
    "    print(i)"
   ]
  },
  {
   "cell_type": "code",
   "execution_count": 16,
   "metadata": {},
   "outputs": [
    {
     "data": {
      "text/plain": [
       "True"
      ]
     },
     "execution_count": 16,
     "metadata": {},
     "output_type": "execute_result"
    }
   ],
   "source": [
    "any([True,False,False])"
   ]
  },
  {
   "cell_type": "code",
   "execution_count": 17,
   "metadata": {},
   "outputs": [
    {
     "data": {
      "text/plain": [
       "True"
      ]
     },
     "execution_count": 17,
     "metadata": {},
     "output_type": "execute_result"
    }
   ],
   "source": [
    "all([True,True,True])"
   ]
  },
  {
   "cell_type": "code",
   "execution_count": 18,
   "metadata": {},
   "outputs": [
    {
     "data": {
      "text/plain": [
       "False"
      ]
     },
     "execution_count": 18,
     "metadata": {},
     "output_type": "execute_result"
    }
   ],
   "source": [
    "all([True,False])"
   ]
  },
  {
   "cell_type": "code",
   "execution_count": 20,
   "metadata": {},
   "outputs": [
    {
     "name": "stdout",
     "output_type": "stream",
     "text": [
      "True\n"
     ]
    }
   ],
   "source": [
    "#SETS\n",
    "def has_cuplicates(t):\n",
    "    return len(set(t))<len(t)#set creates a dictionary with keys as elements of t with no values so if duplicates in t len of t will be higher\n",
    "print(has_cuplicates(['a','a','b','c','d']))"
   ]
  },
  {
   "cell_type": "code",
   "execution_count": 21,
   "metadata": {},
   "outputs": [
    {
     "name": "stdout",
     "output_type": "stream",
     "text": [
      "False\n"
     ]
    }
   ],
   "source": [
    "def uses_only(word,available):\n",
    "    return set(word)<=set(available)#returns true if set word is a subset of set available\n",
    "print(uses_only('badshah','ab'))"
   ]
  },
  {
   "cell_type": "code",
   "execution_count": 22,
   "metadata": {},
   "outputs": [
    {
     "name": "stdout",
     "output_type": "stream",
     "text": [
      "Counter({'r': 2, 'p': 1, 'a': 1, 'o': 1, 't': 1})\n"
     ]
    }
   ],
   "source": [
    "#COUNTERS\n",
    "from collections import Counter\n",
    "count = Counter('parrot')\n",
    "print(count)"
   ]
  },
  {
   "cell_type": "code",
   "execution_count": null,
   "metadata": {},
   "outputs": [],
   "source": [
    "def is_anagram(w1,w2):\n",
    "    return Counter(w1)==Counter(w2)"
   ]
  },
  {
   "cell_type": "code",
   "execution_count": 29,
   "metadata": {},
   "outputs": [
    {
     "name": "stdout",
     "output_type": "stream",
     "text": [
      "Point(x=1, y=2)\n",
      "1 2\n",
      "1\n"
     ]
    }
   ],
   "source": [
    "#NAMES TUPLES\n",
    "from collections import namedtuple\n",
    "class Point:\n",
    "    def __init__(self,x=0,y=0):\n",
    "        self.x = x\n",
    "        self.y = y\n",
    "    def __str__(self):\n",
    "        return \"(%g,%g)\"%(self.x,self.y) \n",
    "p = namedtuple('Point',['x','y'])#specifies p is a point class object with x and y attributes\n",
    "myP = p(1,2)\n",
    "a,b = myP\n",
    "print(myP)\n",
    "print(myP[0],myP[1])\n",
    "print(a)"
   ]
  },
  {
   "cell_type": "code",
   "execution_count": 32,
   "metadata": {},
   "outputs": [
    {
     "name": "stdout",
     "output_type": "stream",
     "text": [
      "('abu', 'bakar', 'ali')\n",
      "(2, 324, 213)\n"
     ]
    },
    {
     "ename": "TypeError",
     "evalue": "print_all() got an unexpected keyword argument 'a'",
     "output_type": "error",
     "traceback": [
      "\u001b[1;31m---------------------------------------------------------------------------\u001b[0m",
      "\u001b[1;31mTypeError\u001b[0m                                 Traceback (most recent call last)",
      "\u001b[1;32m<ipython-input-32-9c2caffb1c92>\u001b[0m in \u001b[0;36m<module>\u001b[1;34m\u001b[0m\n\u001b[0;32m      5\u001b[0m \u001b[0mprint_all\u001b[0m\u001b[1;33m(\u001b[0m\u001b[1;34m'abu'\u001b[0m\u001b[1;33m,\u001b[0m\u001b[1;34m'bakar'\u001b[0m\u001b[1;33m,\u001b[0m\u001b[1;34m'ali'\u001b[0m\u001b[1;33m)\u001b[0m\u001b[1;33m\u001b[0m\u001b[1;33m\u001b[0m\u001b[0m\n\u001b[0;32m      6\u001b[0m \u001b[0mprint_all\u001b[0m\u001b[1;33m(\u001b[0m\u001b[1;36m2\u001b[0m\u001b[1;33m,\u001b[0m\u001b[1;36m324\u001b[0m\u001b[1;33m,\u001b[0m\u001b[1;36m213\u001b[0m\u001b[1;33m)\u001b[0m\u001b[1;33m\u001b[0m\u001b[1;33m\u001b[0m\u001b[0m\n\u001b[1;32m----> 7\u001b[1;33m \u001b[0mprint_all\u001b[0m\u001b[1;33m(\u001b[0m\u001b[1;36m2\u001b[0m\u001b[1;33m,\u001b[0m\u001b[1;36m3\u001b[0m\u001b[1;33m,\u001b[0m\u001b[0ma\u001b[0m\u001b[1;33m=\u001b[0m\u001b[1;34m'5'\u001b[0m\u001b[1;33m)\u001b[0m\u001b[1;33m\u001b[0m\u001b[1;33m\u001b[0m\u001b[0m\n\u001b[0m",
      "\u001b[1;31mTypeError\u001b[0m: print_all() got an unexpected keyword argument 'a'"
     ]
    }
   ],
   "source": [
    "#GATHERING KEYWORD ARGS\n",
    "\n",
    "def print_all(*args):\n",
    "    print(args)\n",
    "print_all('abu','bakar','ali')\n",
    "print_all(2,324,213)\n",
    "print_all(2,3,a='5')#doesnt work because keyword arguments arent used by args"
   ]
  },
  {
   "cell_type": "code",
   "execution_count": 34,
   "metadata": {},
   "outputs": [
    {
     "name": "stdout",
     "output_type": "stream",
     "text": [
      "(2, 3) {'a': '5', 'boss': 769}\n"
     ]
    }
   ],
   "source": [
    "def print_it(*args, **kwargs):\n",
    "    print(args,kwargs)\n",
    "print_it(2,3,a='5',boss=769)#kwargs gathers it as a dictionary"
   ]
  },
  {
   "cell_type": "code",
   "execution_count": 30,
   "metadata": {},
   "outputs": [
    {
     "ename": "SyntaxError",
     "evalue": "invalid syntax (<ipython-input-30-cb0bdba7b9a5>, line 7)",
     "output_type": "error",
     "traceback": [
      "\u001b[1;36m  File \u001b[1;32m\"<ipython-input-30-cb0bdba7b9a5>\"\u001b[1;36m, line \u001b[1;32m7\u001b[0m\n\u001b[1;33m    for i in range(global k):\u001b[0m\n\u001b[1;37m                   ^\u001b[0m\n\u001b[1;31mSyntaxError\u001b[0m\u001b[1;31m:\u001b[0m invalid syntax\n"
     ]
    }
   ],
   "source": [
    "#INFY\n",
    "n = int(input(\"enter number of people\"))\n",
    "k = int(input(\"input the days in your week\"))\n",
    "def theatre():\n",
    "  matrix = list()\n",
    "  input(\"enter the format \\n\")\n",
    "  for i in range(global k):\n",
    "    a = []\n",
    "    for j in range(global n):\n",
    "      a.append(int(input()))\n",
    "    matrix.append(a)\n",
    "  print(matrix)\n",
    "  return matrix"
   ]
  },
  {
   "cell_type": "markdown",
   "metadata": {},
   "source": [
    " def make_dict():\n",
    "    matrix = theatre()\n",
    "    dic = dict()\n",
    "    for seq in matrix:\n",
    "        print(seq)\n",
    "        for i in range(len(seq)):\n",
    "            for j in range(len(seq)):\n",
    "                print(seq[i],seq[j])\n",
    "                if i==j:\n",
    "                    break\n",
    "                elif seq[i]!=seq[j] and i<j:\n",
    "                    dic[(seq[i],seq[j])] = dic.get((seq[i],seq[j]),0)+1\n",
    "                else:\n",
    "                    continue\n",
    "    print(dic)\n",
    "\n",
    "        \n",
    "    \n",
    "\n",
    "make_dict()"
   ]
  },
  {
   "cell_type": "code",
   "execution_count": 29,
   "metadata": {},
   "outputs": [
    {
     "name": "stdin",
     "output_type": "stream",
     "text": [
      "enter number of people 3\n",
      "input the days in your week 4\n",
      "enter the format \n",
      " \n",
      " 1\n",
      " 2\n",
      " 3\n",
      " 1\n",
      " 2\n",
      " 3\n",
      " 1\n",
      " 2\n",
      " 3\n",
      " 1\n",
      " 2\n",
      " 3\n"
     ]
    },
    {
     "name": "stdout",
     "output_type": "stream",
     "text": [
      "[[1, 2, 3], [1, 2, 3], [1, 2, 3], [1, 2, 3]]\n",
      "[1, 2, 3]\n",
      "1 2\n",
      "1 3\n",
      "2 3\n",
      "[1, 2, 3]\n",
      "1 2\n",
      "1 3\n",
      "2 3\n",
      "[1, 2, 3]\n",
      "1 2\n",
      "1 3\n",
      "2 3\n",
      "[1, 2, 3]\n",
      "1 2\n",
      "1 3\n",
      "2 3\n",
      "{(1, 2): 4, (1, 3): 4, (2, 3): 4}\n"
     ]
    }
   ],
   "source": [
    "def make_dict():\n",
    "    matrix = theatre() \n",
    "    dic = dict() \n",
    "    for seq in matrix: \n",
    "        print(seq) \n",
    "        for i in range(len(seq)): \n",
    "            for j in range(i+1 , len(seq)): \n",
    "                print(seq[i],seq[j]) \n",
    "                if i==j: \n",
    "                    break \n",
    "                elif seq[i]!=seq[j] and i<j: \n",
    "                    dic[(seq[i],seq[j])] = dic.get((seq[i],seq[j]),0)+1 \n",
    "                else: continue \n",
    "    print(dic)\n",
    "\n",
    "make_dict()"
   ]
  },
  {
   "cell_type": "code",
   "execution_count": null,
   "metadata": {},
   "outputs": [],
   "source": []
  }
 ],
 "metadata": {
  "kernelspec": {
   "display_name": "Python 3",
   "language": "python",
   "name": "python3"
  },
  "language_info": {
   "codemirror_mode": {
    "name": "ipython",
    "version": 3
   },
   "file_extension": ".py",
   "mimetype": "text/x-python",
   "name": "python",
   "nbconvert_exporter": "python",
   "pygments_lexer": "ipython3",
   "version": "3.8.3"
  }
 },
 "nbformat": 4,
 "nbformat_minor": 4
}
